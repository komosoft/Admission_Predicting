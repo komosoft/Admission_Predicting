{
 "cells": [
  {
   "cell_type": "code",
   "execution_count": 1,
   "source": [
    "import pandas as pd\r\n",
    "import matplotlib.pyplot as plt\r\n",
    "import numpy as np"
   ],
   "outputs": [],
   "metadata": {}
  },
  {
   "cell_type": "code",
   "execution_count": 2,
   "source": [
    "df = pd.read_excel('computer science request.xlsx', sheet_name='admitted')\r\n",
    "df.head()"
   ],
   "outputs": [
    {
     "output_type": "execute_result",
     "data": {
      "text/plain": [
       "       RG_NUM                   RG_CANDNAME RG_SEX  RG_AGGREGATE  \\\n",
       "0  21417923IF    Abimbola Toluwani Olayinka      M           245   \n",
       "1  21456970HF        Abiodun Abayomi Toheeb      M           208   \n",
       "2  21435425HA  Abodunrin Abdulsalam Olaniyi      M           181   \n",
       "3  21347066CA     Adebare Mustapha Tobiloba      M           168   \n",
       "4  21360502AF    Adeboye Abdulmalik Olajide      M           173   \n",
       "\n",
       "            CO_NAME  aggregate  \n",
       "0  Computer Science     58.375  \n",
       "1  Computer Science     51.250  \n",
       "2  Computer Science     52.625  \n",
       "3  Computer Science     60.000  \n",
       "4  Computer Science     53.625  "
      ],
      "text/html": [
       "<div>\n",
       "<style scoped>\n",
       "    .dataframe tbody tr th:only-of-type {\n",
       "        vertical-align: middle;\n",
       "    }\n",
       "\n",
       "    .dataframe tbody tr th {\n",
       "        vertical-align: top;\n",
       "    }\n",
       "\n",
       "    .dataframe thead th {\n",
       "        text-align: right;\n",
       "    }\n",
       "</style>\n",
       "<table border=\"1\" class=\"dataframe\">\n",
       "  <thead>\n",
       "    <tr style=\"text-align: right;\">\n",
       "      <th></th>\n",
       "      <th>RG_NUM</th>\n",
       "      <th>RG_CANDNAME</th>\n",
       "      <th>RG_SEX</th>\n",
       "      <th>RG_AGGREGATE</th>\n",
       "      <th>CO_NAME</th>\n",
       "      <th>aggregate</th>\n",
       "    </tr>\n",
       "  </thead>\n",
       "  <tbody>\n",
       "    <tr>\n",
       "      <th>0</th>\n",
       "      <td>21417923IF</td>\n",
       "      <td>Abimbola Toluwani Olayinka</td>\n",
       "      <td>M</td>\n",
       "      <td>245</td>\n",
       "      <td>Computer Science</td>\n",
       "      <td>58.375</td>\n",
       "    </tr>\n",
       "    <tr>\n",
       "      <th>1</th>\n",
       "      <td>21456970HF</td>\n",
       "      <td>Abiodun Abayomi Toheeb</td>\n",
       "      <td>M</td>\n",
       "      <td>208</td>\n",
       "      <td>Computer Science</td>\n",
       "      <td>51.250</td>\n",
       "    </tr>\n",
       "    <tr>\n",
       "      <th>2</th>\n",
       "      <td>21435425HA</td>\n",
       "      <td>Abodunrin Abdulsalam Olaniyi</td>\n",
       "      <td>M</td>\n",
       "      <td>181</td>\n",
       "      <td>Computer Science</td>\n",
       "      <td>52.625</td>\n",
       "    </tr>\n",
       "    <tr>\n",
       "      <th>3</th>\n",
       "      <td>21347066CA</td>\n",
       "      <td>Adebare Mustapha Tobiloba</td>\n",
       "      <td>M</td>\n",
       "      <td>168</td>\n",
       "      <td>Computer Science</td>\n",
       "      <td>60.000</td>\n",
       "    </tr>\n",
       "    <tr>\n",
       "      <th>4</th>\n",
       "      <td>21360502AF</td>\n",
       "      <td>Adeboye Abdulmalik Olajide</td>\n",
       "      <td>M</td>\n",
       "      <td>173</td>\n",
       "      <td>Computer Science</td>\n",
       "      <td>53.625</td>\n",
       "    </tr>\n",
       "  </tbody>\n",
       "</table>\n",
       "</div>"
      ]
     },
     "metadata": {},
     "execution_count": 2
    }
   ],
   "metadata": {}
  },
  {
   "cell_type": "code",
   "execution_count": 3,
   "source": [
    "df2 = pd.read_excel('computer science request.xlsx', sheet_name='applicants')\r\n",
    "df2.head()"
   ],
   "outputs": [
    {
     "output_type": "execute_result",
     "data": {
      "text/plain": [
       "       RG_NUM        Dob StateOrig  \\\n",
       "0  21685357EA 2001-06-03      Abia   \n",
       "1  21421165CF 2004-02-18       Edo   \n",
       "2  21683911FA 2004-03-03   Anambra   \n",
       "3  21371558BF 2002-05-29     Lagos   \n",
       "4  21431507JA 1992-11-07     Delta   \n",
       "\n",
       "                                        OlevelAccept  \\\n",
       "0  ENGLISH LANGUAGE: A1,  MATHEMATICS: B3,  CHEMI...   \n",
       "1  ENGLISH LANGUAGE: C4,  MATHEMATICS: B2,  PHYSI...   \n",
       "2  ENGLISH LANGUAGE: B3,  MATHEMATICS: B2,  CHEMI...   \n",
       "3  ENGLISH LANGUAGE: C5,  MATHEMATICS: B2,  PHYSI...   \n",
       "4  ENGLISH LANGUAGE: C4,  MATHEMATICS: C5,  CHEMI...   \n",
       "\n",
       "                                      OlevelSupplied  Aggscore  \n",
       "0  ENGLISH LANGUAGE : A1, MATHEMATICS : B3, CHEMI...     68.75  \n",
       "1  ENGLISH LANGUAGE : C4, MATHEMATICS : B2, ECONO...     68.38  \n",
       "2  DATA PROCESSING : B3, ECONOMICS : B3, CIVIC ED...     68.25  \n",
       "3  ENGLISH LANGUAGE : C5, MATHEMATICS : B2, PHYSI...     68.25  \n",
       "4  ECONOMICS : C4, GEOGRAPHY : B3, ENGLISH LANGUA...     67.50  "
      ],
      "text/html": [
       "<div>\n",
       "<style scoped>\n",
       "    .dataframe tbody tr th:only-of-type {\n",
       "        vertical-align: middle;\n",
       "    }\n",
       "\n",
       "    .dataframe tbody tr th {\n",
       "        vertical-align: top;\n",
       "    }\n",
       "\n",
       "    .dataframe thead th {\n",
       "        text-align: right;\n",
       "    }\n",
       "</style>\n",
       "<table border=\"1\" class=\"dataframe\">\n",
       "  <thead>\n",
       "    <tr style=\"text-align: right;\">\n",
       "      <th></th>\n",
       "      <th>RG_NUM</th>\n",
       "      <th>Dob</th>\n",
       "      <th>StateOrig</th>\n",
       "      <th>OlevelAccept</th>\n",
       "      <th>OlevelSupplied</th>\n",
       "      <th>Aggscore</th>\n",
       "    </tr>\n",
       "  </thead>\n",
       "  <tbody>\n",
       "    <tr>\n",
       "      <th>0</th>\n",
       "      <td>21685357EA</td>\n",
       "      <td>2001-06-03</td>\n",
       "      <td>Abia</td>\n",
       "      <td>ENGLISH LANGUAGE: A1,  MATHEMATICS: B3,  CHEMI...</td>\n",
       "      <td>ENGLISH LANGUAGE : A1, MATHEMATICS : B3, CHEMI...</td>\n",
       "      <td>68.75</td>\n",
       "    </tr>\n",
       "    <tr>\n",
       "      <th>1</th>\n",
       "      <td>21421165CF</td>\n",
       "      <td>2004-02-18</td>\n",
       "      <td>Edo</td>\n",
       "      <td>ENGLISH LANGUAGE: C4,  MATHEMATICS: B2,  PHYSI...</td>\n",
       "      <td>ENGLISH LANGUAGE : C4, MATHEMATICS : B2, ECONO...</td>\n",
       "      <td>68.38</td>\n",
       "    </tr>\n",
       "    <tr>\n",
       "      <th>2</th>\n",
       "      <td>21683911FA</td>\n",
       "      <td>2004-03-03</td>\n",
       "      <td>Anambra</td>\n",
       "      <td>ENGLISH LANGUAGE: B3,  MATHEMATICS: B2,  CHEMI...</td>\n",
       "      <td>DATA PROCESSING : B3, ECONOMICS : B3, CIVIC ED...</td>\n",
       "      <td>68.25</td>\n",
       "    </tr>\n",
       "    <tr>\n",
       "      <th>3</th>\n",
       "      <td>21371558BF</td>\n",
       "      <td>2002-05-29</td>\n",
       "      <td>Lagos</td>\n",
       "      <td>ENGLISH LANGUAGE: C5,  MATHEMATICS: B2,  PHYSI...</td>\n",
       "      <td>ENGLISH LANGUAGE : C5, MATHEMATICS : B2, PHYSI...</td>\n",
       "      <td>68.25</td>\n",
       "    </tr>\n",
       "    <tr>\n",
       "      <th>4</th>\n",
       "      <td>21431507JA</td>\n",
       "      <td>1992-11-07</td>\n",
       "      <td>Delta</td>\n",
       "      <td>ENGLISH LANGUAGE: C4,  MATHEMATICS: C5,  CHEMI...</td>\n",
       "      <td>ECONOMICS : C4, GEOGRAPHY : B3, ENGLISH LANGUA...</td>\n",
       "      <td>67.50</td>\n",
       "    </tr>\n",
       "  </tbody>\n",
       "</table>\n",
       "</div>"
      ]
     },
     "metadata": {},
     "execution_count": 3
    }
   ],
   "metadata": {}
  },
  {
   "cell_type": "code",
   "execution_count": 4,
   "source": [
    "global_df = df.merge(df2, left_on = 'RG_NUM', right_on='RG_NUM' )\r\n",
    "global_df.head()"
   ],
   "outputs": [
    {
     "output_type": "execute_result",
     "data": {
      "text/plain": [
       "       RG_NUM                   RG_CANDNAME RG_SEX  RG_AGGREGATE  \\\n",
       "0  21417923IF    Abimbola Toluwani Olayinka      M           245   \n",
       "1  21456970HF        Abiodun Abayomi Toheeb      M           208   \n",
       "2  21435425HA  Abodunrin Abdulsalam Olaniyi      M           181   \n",
       "3  21347066CA     Adebare Mustapha Tobiloba      M           168   \n",
       "4  21360502AF    Adeboye Abdulmalik Olajide      M           173   \n",
       "\n",
       "            CO_NAME  aggregate        Dob StateOrig  \\\n",
       "0  Computer Science     58.375 2001-08-05      Ogun   \n",
       "1  Computer Science     51.250 1998-10-10      Ondo   \n",
       "2  Computer Science     52.625 2001-05-08       Oyo   \n",
       "3  Computer Science     60.000 2002-08-05      Ogun   \n",
       "4  Computer Science     53.625 2004-10-23      Ogun   \n",
       "\n",
       "                                        OlevelAccept  \\\n",
       "0  MATHEMATICS: B3,  ENGLISH LANGUAGE: C5,  PHYSI...   \n",
       "1  ENGLISH LANGUAGE: C5,  MATHEMATICS: B2,  PHYSI...   \n",
       "2  MATHEMATICS: C6,  ENGLISH LANGUAGE: B3,  CHEMI...   \n",
       "3  ENGLISH LANGUAGE: C4,  MATHEMATICS: A1,  PHYSI...   \n",
       "4  ENGLISH LANGUAGE: C4,  MATHEMATICS: B2,  CHEMI...   \n",
       "\n",
       "                                      OlevelSupplied  Aggscore  \n",
       "0  MATHEMATICS : B3, ENGLISH LANGUAGE : C5, PHYSI...     56.88  \n",
       "1  ENGLISH LANGUAGE : C5, MATHEMATICS : B2, PHYSI...     51.75  \n",
       "2  MATHEMATICS : C6, DATA PROCESSING : B3, ECONOM...     55.88  \n",
       "3  ENGLISH LANGUAGE : C4, MATHEMATICS : A1, BIOLO...     58.50  \n",
       "4  ENGLISH LANGUAGE : C4, MATHEMATICS : B2, ECONO...     53.63  "
      ],
      "text/html": [
       "<div>\n",
       "<style scoped>\n",
       "    .dataframe tbody tr th:only-of-type {\n",
       "        vertical-align: middle;\n",
       "    }\n",
       "\n",
       "    .dataframe tbody tr th {\n",
       "        vertical-align: top;\n",
       "    }\n",
       "\n",
       "    .dataframe thead th {\n",
       "        text-align: right;\n",
       "    }\n",
       "</style>\n",
       "<table border=\"1\" class=\"dataframe\">\n",
       "  <thead>\n",
       "    <tr style=\"text-align: right;\">\n",
       "      <th></th>\n",
       "      <th>RG_NUM</th>\n",
       "      <th>RG_CANDNAME</th>\n",
       "      <th>RG_SEX</th>\n",
       "      <th>RG_AGGREGATE</th>\n",
       "      <th>CO_NAME</th>\n",
       "      <th>aggregate</th>\n",
       "      <th>Dob</th>\n",
       "      <th>StateOrig</th>\n",
       "      <th>OlevelAccept</th>\n",
       "      <th>OlevelSupplied</th>\n",
       "      <th>Aggscore</th>\n",
       "    </tr>\n",
       "  </thead>\n",
       "  <tbody>\n",
       "    <tr>\n",
       "      <th>0</th>\n",
       "      <td>21417923IF</td>\n",
       "      <td>Abimbola Toluwani Olayinka</td>\n",
       "      <td>M</td>\n",
       "      <td>245</td>\n",
       "      <td>Computer Science</td>\n",
       "      <td>58.375</td>\n",
       "      <td>2001-08-05</td>\n",
       "      <td>Ogun</td>\n",
       "      <td>MATHEMATICS: B3,  ENGLISH LANGUAGE: C5,  PHYSI...</td>\n",
       "      <td>MATHEMATICS : B3, ENGLISH LANGUAGE : C5, PHYSI...</td>\n",
       "      <td>56.88</td>\n",
       "    </tr>\n",
       "    <tr>\n",
       "      <th>1</th>\n",
       "      <td>21456970HF</td>\n",
       "      <td>Abiodun Abayomi Toheeb</td>\n",
       "      <td>M</td>\n",
       "      <td>208</td>\n",
       "      <td>Computer Science</td>\n",
       "      <td>51.250</td>\n",
       "      <td>1998-10-10</td>\n",
       "      <td>Ondo</td>\n",
       "      <td>ENGLISH LANGUAGE: C5,  MATHEMATICS: B2,  PHYSI...</td>\n",
       "      <td>ENGLISH LANGUAGE : C5, MATHEMATICS : B2, PHYSI...</td>\n",
       "      <td>51.75</td>\n",
       "    </tr>\n",
       "    <tr>\n",
       "      <th>2</th>\n",
       "      <td>21435425HA</td>\n",
       "      <td>Abodunrin Abdulsalam Olaniyi</td>\n",
       "      <td>M</td>\n",
       "      <td>181</td>\n",
       "      <td>Computer Science</td>\n",
       "      <td>52.625</td>\n",
       "      <td>2001-05-08</td>\n",
       "      <td>Oyo</td>\n",
       "      <td>MATHEMATICS: C6,  ENGLISH LANGUAGE: B3,  CHEMI...</td>\n",
       "      <td>MATHEMATICS : C6, DATA PROCESSING : B3, ECONOM...</td>\n",
       "      <td>55.88</td>\n",
       "    </tr>\n",
       "    <tr>\n",
       "      <th>3</th>\n",
       "      <td>21347066CA</td>\n",
       "      <td>Adebare Mustapha Tobiloba</td>\n",
       "      <td>M</td>\n",
       "      <td>168</td>\n",
       "      <td>Computer Science</td>\n",
       "      <td>60.000</td>\n",
       "      <td>2002-08-05</td>\n",
       "      <td>Ogun</td>\n",
       "      <td>ENGLISH LANGUAGE: C4,  MATHEMATICS: A1,  PHYSI...</td>\n",
       "      <td>ENGLISH LANGUAGE : C4, MATHEMATICS : A1, BIOLO...</td>\n",
       "      <td>58.50</td>\n",
       "    </tr>\n",
       "    <tr>\n",
       "      <th>4</th>\n",
       "      <td>21360502AF</td>\n",
       "      <td>Adeboye Abdulmalik Olajide</td>\n",
       "      <td>M</td>\n",
       "      <td>173</td>\n",
       "      <td>Computer Science</td>\n",
       "      <td>53.625</td>\n",
       "      <td>2004-10-23</td>\n",
       "      <td>Ogun</td>\n",
       "      <td>ENGLISH LANGUAGE: C4,  MATHEMATICS: B2,  CHEMI...</td>\n",
       "      <td>ENGLISH LANGUAGE : C4, MATHEMATICS : B2, ECONO...</td>\n",
       "      <td>53.63</td>\n",
       "    </tr>\n",
       "  </tbody>\n",
       "</table>\n",
       "</div>"
      ]
     },
     "metadata": {},
     "execution_count": 4
    }
   ],
   "metadata": {}
  },
  {
   "cell_type": "code",
   "execution_count": 5,
   "source": [
    "global_df.isna().sum() / len(global_df)"
   ],
   "outputs": [
    {
     "output_type": "execute_result",
     "data": {
      "text/plain": [
       "RG_NUM            0.0\n",
       "RG_CANDNAME       0.0\n",
       "RG_SEX            0.0\n",
       "RG_AGGREGATE      0.0\n",
       "CO_NAME           0.0\n",
       "aggregate         0.0\n",
       "Dob               0.0\n",
       "StateOrig         0.0\n",
       "OlevelAccept      0.0\n",
       "OlevelSupplied    0.0\n",
       "Aggscore          0.0\n",
       "dtype: float64"
      ]
     },
     "metadata": {},
     "execution_count": 5
    }
   ],
   "metadata": {}
  },
  {
   "cell_type": "code",
   "execution_count": 6,
   "source": [
    "global_df['Performance metrics'] = ( ( (  global_df['RG_AGGREGATE'] / 400 ) * 100 ) + ( ( global_df['aggregate'] / 100 ) * 100 ) + ( ( global_df['Aggscore'] / 100 ) * 100 ) ) / 300\r\n",
    "global_df['Performance metrics'].head()"
   ],
   "outputs": [
    {
     "output_type": "execute_result",
     "data": {
      "text/plain": [
       "0    0.588350\n",
       "1    0.516667\n",
       "2    0.512517\n",
       "3    0.535000\n",
       "4    0.501683\n",
       "Name: Performance metrics, dtype: float64"
      ]
     },
     "metadata": {},
     "execution_count": 6
    }
   ],
   "metadata": {}
  },
  {
   "cell_type": "code",
   "execution_count": 7,
   "source": [
    "global_df['Performance metrics'].max()"
   ],
   "outputs": [
    {
     "output_type": "execute_result",
     "data": {
      "text/plain": [
       "0.685"
      ]
     },
     "metadata": {},
     "execution_count": 7
    }
   ],
   "metadata": {}
  },
  {
   "cell_type": "code",
   "execution_count": 8,
   "source": [
    "global_df.head()"
   ],
   "outputs": [
    {
     "output_type": "execute_result",
     "data": {
      "text/plain": [
       "       RG_NUM                   RG_CANDNAME RG_SEX  RG_AGGREGATE  \\\n",
       "0  21417923IF    Abimbola Toluwani Olayinka      M           245   \n",
       "1  21456970HF        Abiodun Abayomi Toheeb      M           208   \n",
       "2  21435425HA  Abodunrin Abdulsalam Olaniyi      M           181   \n",
       "3  21347066CA     Adebare Mustapha Tobiloba      M           168   \n",
       "4  21360502AF    Adeboye Abdulmalik Olajide      M           173   \n",
       "\n",
       "            CO_NAME  aggregate        Dob StateOrig  \\\n",
       "0  Computer Science     58.375 2001-08-05      Ogun   \n",
       "1  Computer Science     51.250 1998-10-10      Ondo   \n",
       "2  Computer Science     52.625 2001-05-08       Oyo   \n",
       "3  Computer Science     60.000 2002-08-05      Ogun   \n",
       "4  Computer Science     53.625 2004-10-23      Ogun   \n",
       "\n",
       "                                        OlevelAccept  \\\n",
       "0  MATHEMATICS: B3,  ENGLISH LANGUAGE: C5,  PHYSI...   \n",
       "1  ENGLISH LANGUAGE: C5,  MATHEMATICS: B2,  PHYSI...   \n",
       "2  MATHEMATICS: C6,  ENGLISH LANGUAGE: B3,  CHEMI...   \n",
       "3  ENGLISH LANGUAGE: C4,  MATHEMATICS: A1,  PHYSI...   \n",
       "4  ENGLISH LANGUAGE: C4,  MATHEMATICS: B2,  CHEMI...   \n",
       "\n",
       "                                      OlevelSupplied  Aggscore  \\\n",
       "0  MATHEMATICS : B3, ENGLISH LANGUAGE : C5, PHYSI...     56.88   \n",
       "1  ENGLISH LANGUAGE : C5, MATHEMATICS : B2, PHYSI...     51.75   \n",
       "2  MATHEMATICS : C6, DATA PROCESSING : B3, ECONOM...     55.88   \n",
       "3  ENGLISH LANGUAGE : C4, MATHEMATICS : A1, BIOLO...     58.50   \n",
       "4  ENGLISH LANGUAGE : C4, MATHEMATICS : B2, ECONO...     53.63   \n",
       "\n",
       "   Performance metrics  \n",
       "0             0.588350  \n",
       "1             0.516667  \n",
       "2             0.512517  \n",
       "3             0.535000  \n",
       "4             0.501683  "
      ],
      "text/html": [
       "<div>\n",
       "<style scoped>\n",
       "    .dataframe tbody tr th:only-of-type {\n",
       "        vertical-align: middle;\n",
       "    }\n",
       "\n",
       "    .dataframe tbody tr th {\n",
       "        vertical-align: top;\n",
       "    }\n",
       "\n",
       "    .dataframe thead th {\n",
       "        text-align: right;\n",
       "    }\n",
       "</style>\n",
       "<table border=\"1\" class=\"dataframe\">\n",
       "  <thead>\n",
       "    <tr style=\"text-align: right;\">\n",
       "      <th></th>\n",
       "      <th>RG_NUM</th>\n",
       "      <th>RG_CANDNAME</th>\n",
       "      <th>RG_SEX</th>\n",
       "      <th>RG_AGGREGATE</th>\n",
       "      <th>CO_NAME</th>\n",
       "      <th>aggregate</th>\n",
       "      <th>Dob</th>\n",
       "      <th>StateOrig</th>\n",
       "      <th>OlevelAccept</th>\n",
       "      <th>OlevelSupplied</th>\n",
       "      <th>Aggscore</th>\n",
       "      <th>Performance metrics</th>\n",
       "    </tr>\n",
       "  </thead>\n",
       "  <tbody>\n",
       "    <tr>\n",
       "      <th>0</th>\n",
       "      <td>21417923IF</td>\n",
       "      <td>Abimbola Toluwani Olayinka</td>\n",
       "      <td>M</td>\n",
       "      <td>245</td>\n",
       "      <td>Computer Science</td>\n",
       "      <td>58.375</td>\n",
       "      <td>2001-08-05</td>\n",
       "      <td>Ogun</td>\n",
       "      <td>MATHEMATICS: B3,  ENGLISH LANGUAGE: C5,  PHYSI...</td>\n",
       "      <td>MATHEMATICS : B3, ENGLISH LANGUAGE : C5, PHYSI...</td>\n",
       "      <td>56.88</td>\n",
       "      <td>0.588350</td>\n",
       "    </tr>\n",
       "    <tr>\n",
       "      <th>1</th>\n",
       "      <td>21456970HF</td>\n",
       "      <td>Abiodun Abayomi Toheeb</td>\n",
       "      <td>M</td>\n",
       "      <td>208</td>\n",
       "      <td>Computer Science</td>\n",
       "      <td>51.250</td>\n",
       "      <td>1998-10-10</td>\n",
       "      <td>Ondo</td>\n",
       "      <td>ENGLISH LANGUAGE: C5,  MATHEMATICS: B2,  PHYSI...</td>\n",
       "      <td>ENGLISH LANGUAGE : C5, MATHEMATICS : B2, PHYSI...</td>\n",
       "      <td>51.75</td>\n",
       "      <td>0.516667</td>\n",
       "    </tr>\n",
       "    <tr>\n",
       "      <th>2</th>\n",
       "      <td>21435425HA</td>\n",
       "      <td>Abodunrin Abdulsalam Olaniyi</td>\n",
       "      <td>M</td>\n",
       "      <td>181</td>\n",
       "      <td>Computer Science</td>\n",
       "      <td>52.625</td>\n",
       "      <td>2001-05-08</td>\n",
       "      <td>Oyo</td>\n",
       "      <td>MATHEMATICS: C6,  ENGLISH LANGUAGE: B3,  CHEMI...</td>\n",
       "      <td>MATHEMATICS : C6, DATA PROCESSING : B3, ECONOM...</td>\n",
       "      <td>55.88</td>\n",
       "      <td>0.512517</td>\n",
       "    </tr>\n",
       "    <tr>\n",
       "      <th>3</th>\n",
       "      <td>21347066CA</td>\n",
       "      <td>Adebare Mustapha Tobiloba</td>\n",
       "      <td>M</td>\n",
       "      <td>168</td>\n",
       "      <td>Computer Science</td>\n",
       "      <td>60.000</td>\n",
       "      <td>2002-08-05</td>\n",
       "      <td>Ogun</td>\n",
       "      <td>ENGLISH LANGUAGE: C4,  MATHEMATICS: A1,  PHYSI...</td>\n",
       "      <td>ENGLISH LANGUAGE : C4, MATHEMATICS : A1, BIOLO...</td>\n",
       "      <td>58.50</td>\n",
       "      <td>0.535000</td>\n",
       "    </tr>\n",
       "    <tr>\n",
       "      <th>4</th>\n",
       "      <td>21360502AF</td>\n",
       "      <td>Adeboye Abdulmalik Olajide</td>\n",
       "      <td>M</td>\n",
       "      <td>173</td>\n",
       "      <td>Computer Science</td>\n",
       "      <td>53.625</td>\n",
       "      <td>2004-10-23</td>\n",
       "      <td>Ogun</td>\n",
       "      <td>ENGLISH LANGUAGE: C4,  MATHEMATICS: B2,  CHEMI...</td>\n",
       "      <td>ENGLISH LANGUAGE : C4, MATHEMATICS : B2, ECONO...</td>\n",
       "      <td>53.63</td>\n",
       "      <td>0.501683</td>\n",
       "    </tr>\n",
       "  </tbody>\n",
       "</table>\n",
       "</div>"
      ]
     },
     "metadata": {},
     "execution_count": 8
    }
   ],
   "metadata": {}
  },
  {
   "cell_type": "code",
   "execution_count": 9,
   "source": [
    "cols_drop = [ 'RG_NUM' ,  'RG_CANDNAME', 'CO_NAME', 'Dob' , 'StateOrig' , 'OlevelAccept' , 'OlevelSupplied' ]\r\n",
    "global_df.drop(cols_drop, axis=1 , inplace = True)\r\n",
    "global_df.head()"
   ],
   "outputs": [
    {
     "output_type": "execute_result",
     "data": {
      "text/plain": [
       "  RG_SEX  RG_AGGREGATE  aggregate  Aggscore  Performance metrics\n",
       "0      M           245     58.375     56.88             0.588350\n",
       "1      M           208     51.250     51.75             0.516667\n",
       "2      M           181     52.625     55.88             0.512517\n",
       "3      M           168     60.000     58.50             0.535000\n",
       "4      M           173     53.625     53.63             0.501683"
      ],
      "text/html": [
       "<div>\n",
       "<style scoped>\n",
       "    .dataframe tbody tr th:only-of-type {\n",
       "        vertical-align: middle;\n",
       "    }\n",
       "\n",
       "    .dataframe tbody tr th {\n",
       "        vertical-align: top;\n",
       "    }\n",
       "\n",
       "    .dataframe thead th {\n",
       "        text-align: right;\n",
       "    }\n",
       "</style>\n",
       "<table border=\"1\" class=\"dataframe\">\n",
       "  <thead>\n",
       "    <tr style=\"text-align: right;\">\n",
       "      <th></th>\n",
       "      <th>RG_SEX</th>\n",
       "      <th>RG_AGGREGATE</th>\n",
       "      <th>aggregate</th>\n",
       "      <th>Aggscore</th>\n",
       "      <th>Performance metrics</th>\n",
       "    </tr>\n",
       "  </thead>\n",
       "  <tbody>\n",
       "    <tr>\n",
       "      <th>0</th>\n",
       "      <td>M</td>\n",
       "      <td>245</td>\n",
       "      <td>58.375</td>\n",
       "      <td>56.88</td>\n",
       "      <td>0.588350</td>\n",
       "    </tr>\n",
       "    <tr>\n",
       "      <th>1</th>\n",
       "      <td>M</td>\n",
       "      <td>208</td>\n",
       "      <td>51.250</td>\n",
       "      <td>51.75</td>\n",
       "      <td>0.516667</td>\n",
       "    </tr>\n",
       "    <tr>\n",
       "      <th>2</th>\n",
       "      <td>M</td>\n",
       "      <td>181</td>\n",
       "      <td>52.625</td>\n",
       "      <td>55.88</td>\n",
       "      <td>0.512517</td>\n",
       "    </tr>\n",
       "    <tr>\n",
       "      <th>3</th>\n",
       "      <td>M</td>\n",
       "      <td>168</td>\n",
       "      <td>60.000</td>\n",
       "      <td>58.50</td>\n",
       "      <td>0.535000</td>\n",
       "    </tr>\n",
       "    <tr>\n",
       "      <th>4</th>\n",
       "      <td>M</td>\n",
       "      <td>173</td>\n",
       "      <td>53.625</td>\n",
       "      <td>53.63</td>\n",
       "      <td>0.501683</td>\n",
       "    </tr>\n",
       "  </tbody>\n",
       "</table>\n",
       "</div>"
      ]
     },
     "metadata": {},
     "execution_count": 9
    }
   ],
   "metadata": {}
  },
  {
   "cell_type": "code",
   "execution_count": 10,
   "source": [
    "gender = {'M': 1 , 'F': 0}\r\n",
    "global_df['RG_SEX'] = global_df['RG_SEX'].map(gender)\r\n",
    "global_df['RG_SEX'].head()"
   ],
   "outputs": [
    {
     "output_type": "execute_result",
     "data": {
      "text/plain": [
       "0    1\n",
       "1    1\n",
       "2    1\n",
       "3    1\n",
       "4    1\n",
       "Name: RG_SEX, dtype: int64"
      ]
     },
     "metadata": {},
     "execution_count": 10
    }
   ],
   "metadata": {}
  },
  {
   "cell_type": "code",
   "execution_count": 11,
   "source": [
    "from sklearn.model_selection import train_test_split\r\n",
    "\r\n",
    "x_cols = ['RG_SEX' , 'RG_AGGREGATE', 'aggregate' , 'Aggscore']\r\n",
    "\r\n",
    "X = global_df[x_cols]\r\n",
    "y = global_df['Performance metrics']\r\n",
    "\r\n",
    "X_train, y_train, X_test, y_test = train_test_split(X , y , test_size= 0.20)"
   ],
   "outputs": [],
   "metadata": {}
  },
  {
   "cell_type": "code",
   "execution_count": 12,
   "source": [
    "from sklearn.linear_model import LinearRegression\r\n",
    "model = LinearRegression()\r\n",
    "model.fit(X,y)"
   ],
   "outputs": [
    {
     "output_type": "execute_result",
     "data": {
      "text/plain": [
       "LinearRegression()"
      ]
     },
     "metadata": {},
     "execution_count": 12
    }
   ],
   "metadata": {}
  },
  {
   "cell_type": "code",
   "execution_count": 13,
   "source": [
    "model.predict(X)"
   ],
   "outputs": [
    {
     "output_type": "execute_result",
     "data": {
      "text/plain": [
       "array([0.58835   , 0.51666667, 0.51251667, 0.535     , 0.50168333,\n",
       "       0.48835   , 0.48501667, 0.44335   , 0.53833333, 0.48168333,\n",
       "       0.48168333, 0.49833333, 0.58001667, 0.55666667, 0.535     ,\n",
       "       0.66501667, 0.46166667, 0.46918333, 0.60835   , 0.5       ,\n",
       "       0.51668333, 0.55833333, 0.46333333, 0.56      , 0.65501667,\n",
       "       0.56168333, 0.51833333, 0.445     , 0.465     , 0.625     ,\n",
       "       0.60335   , 0.54833333, 0.43501667, 0.57666667, 0.50668333,\n",
       "       0.44416667, 0.44668333, 0.49001667, 0.50335   , 0.46168333,\n",
       "       0.47      , 0.49835   , 0.59833333, 0.56833333, 0.52166667,\n",
       "       0.54166667, 0.62835   , 0.47168333, 0.47666667, 0.48585   ,\n",
       "       0.55      , 0.63166667, 0.455     , 0.49666667, 0.49833333,\n",
       "       0.55668333, 0.45666667, 0.47333333, 0.49333333, 0.59333333,\n",
       "       0.53001667, 0.54      , 0.49501667, 0.54501667, 0.50668333,\n",
       "       0.56835   , 0.45001667, 0.47335   , 0.635     , 0.59833333,\n",
       "       0.49335   , 0.62501667, 0.465     , 0.50668333, 0.60835   ,\n",
       "       0.58333333, 0.45833333, 0.51501667, 0.57666667, 0.63001667,\n",
       "       0.48833333, 0.515     , 0.49335   , 0.60666667, 0.61335   ,\n",
       "       0.45001667, 0.565     , 0.51666667, 0.51668333, 0.52166667,\n",
       "       0.44335   , 0.65      , 0.49001667, 0.45501667, 0.59168333,\n",
       "       0.48833333, 0.51166667, 0.43333333, 0.47335   , 0.49501667,\n",
       "       0.48168333, 0.46668333, 0.59      , 0.56668333, 0.56333333,\n",
       "       0.55835   , 0.60835   , 0.50501667, 0.48666667, 0.59668333,\n",
       "       0.53166667, 0.55666667, 0.61001667, 0.51833333, 0.49666667,\n",
       "       0.56666667, 0.50835   , 0.57001667, 0.54166667, 0.45835   ,\n",
       "       0.52      , 0.52418333, 0.50166667, 0.63      , 0.49833333,\n",
       "       0.50835   , 0.57668333, 0.57168333, 0.44501667, 0.54335   ,\n",
       "       0.545     , 0.47166667, 0.44666667, 0.46668333, 0.49835   ,\n",
       "       0.595     , 0.51166667, 0.49333333, 0.685     , 0.49166667,\n",
       "       0.48918333, 0.46166667, 0.51666667, 0.55      , 0.48166667,\n",
       "       0.56      , 0.48001667, 0.59833333, 0.63001667, 0.52835   ,\n",
       "       0.595     , 0.48833333, 0.48166667, 0.61168333, 0.58501667,\n",
       "       0.54333333, 0.56666667, 0.57666667, 0.47835   , 0.43335   ,\n",
       "       0.47085   , 0.58333333])"
      ]
     },
     "metadata": {},
     "execution_count": 13
    }
   ],
   "metadata": {}
  },
  {
   "cell_type": "code",
   "execution_count": 14,
   "source": [
    "import joblib\r\n",
    "joblib.dump(model, 'performance model.pkl')"
   ],
   "outputs": [
    {
     "output_type": "execute_result",
     "data": {
      "text/plain": [
       "['performance model.pkl']"
      ]
     },
     "metadata": {},
     "execution_count": 14
    }
   ],
   "metadata": {}
  },
  {
   "cell_type": "code",
   "execution_count": 15,
   "source": [
    "import seaborn as sns \r\n",
    "\r\n",
    "# fig\r\n",
    "fig= plt.figure(figsize=(8, 8))\r\n",
    "\r\n",
    "# mask\r\n",
    "mask = np.triu(global_df.corr())\r\n",
    "\r\n",
    "# axes \r\n",
    "axes = fig.add_axes([0, 0, 1, 1])\r\n",
    "sns.heatmap(global_df.dropna().corr(), annot=True, mask=mask, square=True,fmt='.2g',vmin=-1, vmax=1, center= 0, cmap='coolwarm', linecolor='white',\r\n",
    "            cbar_kws= {'orientation': 'vertical'}, ax=axes) \r\n",
    "\r\n",
    "\r\n",
    "# title\r\n",
    "axes.text(-1, -1.5, 'Correlation Among Features', color='black', fontsize=24, fontfamily='fira code', fontweight='bold')\r\n",
    "\r\n",
    "fig.show()\r\n",
    "\r\n",
    "plt.savefig('correlation among features.jpeg')"
   ],
   "outputs": [
    {
     "output_type": "stream",
     "name": "stderr",
     "text": [
      "C:\\Users\\Errdox\\AppData\\Local\\Temp/ipykernel_11168/2114428969.py:18: UserWarning: Matplotlib is currently using module://matplotlib_inline.backend_inline, which is a non-GUI backend, so cannot show the figure.\n",
      "  fig.show()\n"
     ]
    },
    {
     "output_type": "display_data",
     "data": {
      "text/plain": [
       "<Figure size 576x576 with 2 Axes>"
      ],
      "image/svg+xml": "<?xml version=\"1.0\" encoding=\"utf-8\" standalone=\"no\"?>\r\n<!DOCTYPE svg PUBLIC \"-//W3C//DTD SVG 1.1//EN\"\r\n  \"http://www.w3.org/Graphics/SVG/1.1/DTD/svg11.dtd\">\r\n<svg height=\"695.218906pt\" version=\"1.1\" viewBox=\"0 0 662.605312 695.218906\" width=\"662.605312pt\" xmlns=\"http://www.w3.org/2000/svg\" xmlns:xlink=\"http://www.w3.org/1999/xlink\">\r\n <metadata>\r\n  <rdf:RDF xmlns:cc=\"http://creativecommons.org/ns#\" xmlns:dc=\"http://purl.org/dc/elements/1.1/\" xmlns:rdf=\"http://www.w3.org/1999/02/22-rdf-syntax-ns#\">\r\n   <cc:Work>\r\n    <dc:type rdf:resource=\"http://purl.org/dc/dcmitype/StillImage\"/>\r\n    <dc:date>2021-08-10T11:18:32.293835</dc:date>\r\n    <dc:format>image/svg+xml</dc:format>\r\n    <dc:creator>\r\n     <cc:Agent>\r\n      <dc:title>Matplotlib v3.4.2, https://matplotlib.org/</dc:title>\r\n     </cc:Agent>\r\n    </dc:creator>\r\n   </cc:Work>\r\n  </rdf:RDF>\r\n </metadata>\r\n <defs>\r\n  <style type=\"text/css\">*{stroke-linecap:butt;stroke-linejoin:round;}</style>\r\n </defs>\r\n <g id=\"figure_1\">\r\n  <g id=\"patch_1\">\r\n   <path d=\"M 0 695.218906 \r\nL 662.605312 695.218906 \r\nL 662.605312 0 \r\nL 0 0 \r\nz\r\n\" style=\"fill:none;\"/>\r\n  </g>\r\n  <g id=\"axes_1\">\r\n   <g id=\"patch_2\">\r\n    <path d=\"M 99.36 624.54 \r\nL 560.16 624.54 \r\nL 560.16 163.74 \r\nL 99.36 163.74 \r\nz\r\n\" style=\"fill:#ffffff;\"/>\r\n   </g>\r\n   <g id=\"QuadMesh_1\">\r\n    <path clip-path=\"url(#pdeedabd3ed)\" d=\"M 99.36 163.74 \r\nL 191.52 163.74 \r\nL 191.52 255.9 \r\nL 99.36 255.9 \r\nL 99.36 163.74 \r\n\" style=\"fill:none;\"/>\r\n    <path clip-path=\"url(#pdeedabd3ed)\" d=\"M 191.52 163.74 \r\nL 283.68 163.74 \r\nL 283.68 255.9 \r\nL 191.52 255.9 \r\nL 191.52 163.74 \r\n\" style=\"fill:none;\"/>\r\n    <path clip-path=\"url(#pdeedabd3ed)\" d=\"M 283.68 163.74 \r\nL 375.84 163.74 \r\nL 375.84 255.9 \r\nL 283.68 255.9 \r\nL 283.68 163.74 \r\n\" style=\"fill:none;\"/>\r\n    <path clip-path=\"url(#pdeedabd3ed)\" d=\"M 375.84 163.74 \r\nL 468 163.74 \r\nL 468 255.9 \r\nL 375.84 255.9 \r\nL 375.84 163.74 \r\n\" style=\"fill:none;\"/>\r\n    <path clip-path=\"url(#pdeedabd3ed)\" d=\"M 468 163.74 \r\nL 560.16 163.74 \r\nL 560.16 255.9 \r\nL 468 255.9 \r\nL 468 163.74 \r\n\" style=\"fill:none;\"/>\r\n    <path clip-path=\"url(#pdeedabd3ed)\" d=\"M 99.36 255.9 \r\nL 191.52 255.9 \r\nL 191.52 348.06 \r\nL 99.36 348.06 \r\nL 99.36 255.9 \r\n\" style=\"fill:#ebd3c6;\"/>\r\n    <path clip-path=\"url(#pdeedabd3ed)\" d=\"M 191.52 255.9 \r\nL 283.68 255.9 \r\nL 283.68 348.06 \r\nL 191.52 348.06 \r\nL 191.52 255.9 \r\n\" style=\"fill:none;\"/>\r\n    <path clip-path=\"url(#pdeedabd3ed)\" d=\"M 283.68 255.9 \r\nL 375.84 255.9 \r\nL 375.84 348.06 \r\nL 283.68 348.06 \r\nL 283.68 255.9 \r\n\" style=\"fill:none;\"/>\r\n    <path clip-path=\"url(#pdeedabd3ed)\" d=\"M 375.84 255.9 \r\nL 468 255.9 \r\nL 468 348.06 \r\nL 375.84 348.06 \r\nL 375.84 255.9 \r\n\" style=\"fill:none;\"/>\r\n    <path clip-path=\"url(#pdeedabd3ed)\" d=\"M 468 255.9 \r\nL 560.16 255.9 \r\nL 560.16 348.06 \r\nL 468 348.06 \r\nL 468 255.9 \r\n\" style=\"fill:none;\"/>\r\n    <path clip-path=\"url(#pdeedabd3ed)\" d=\"M 99.36 348.06 \r\nL 191.52 348.06 \r\nL 191.52 440.22 \r\nL 99.36 440.22 \r\nL 99.36 348.06 \r\n\" style=\"fill:#edd2c3;\"/>\r\n    <path clip-path=\"url(#pdeedabd3ed)\" d=\"M 191.52 348.06 \r\nL 283.68 348.06 \r\nL 283.68 440.22 \r\nL 191.52 440.22 \r\nL 191.52 348.06 \r\n\" style=\"fill:#f08a6c;\"/>\r\n    <path clip-path=\"url(#pdeedabd3ed)\" d=\"M 283.68 348.06 \r\nL 375.84 348.06 \r\nL 375.84 440.22 \r\nL 283.68 440.22 \r\nL 283.68 348.06 \r\n\" style=\"fill:none;\"/>\r\n    <path clip-path=\"url(#pdeedabd3ed)\" d=\"M 375.84 348.06 \r\nL 468 348.06 \r\nL 468 440.22 \r\nL 375.84 440.22 \r\nL 375.84 348.06 \r\n\" style=\"fill:none;\"/>\r\n    <path clip-path=\"url(#pdeedabd3ed)\" d=\"M 468 348.06 \r\nL 560.16 348.06 \r\nL 560.16 440.22 \r\nL 468 440.22 \r\nL 468 348.06 \r\n\" style=\"fill:none;\"/>\r\n    <path clip-path=\"url(#pdeedabd3ed)\" d=\"M 99.36 440.22 \r\nL 191.52 440.22 \r\nL 191.52 532.38 \r\nL 99.36 532.38 \r\nL 99.36 440.22 \r\n\" style=\"fill:#edd1c2;\"/>\r\n    <path clip-path=\"url(#pdeedabd3ed)\" d=\"M 191.52 440.22 \r\nL 283.68 440.22 \r\nL 283.68 532.38 \r\nL 191.52 532.38 \r\nL 191.52 440.22 \r\n\" style=\"fill:#ee8468;\"/>\r\n    <path clip-path=\"url(#pdeedabd3ed)\" d=\"M 283.68 440.22 \r\nL 375.84 440.22 \r\nL 375.84 532.38 \r\nL 283.68 532.38 \r\nL 283.68 440.22 \r\n\" style=\"fill:#c53334;\"/>\r\n    <path clip-path=\"url(#pdeedabd3ed)\" d=\"M 375.84 440.22 \r\nL 468 440.22 \r\nL 468 532.38 \r\nL 375.84 532.38 \r\nL 375.84 440.22 \r\n\" style=\"fill:none;\"/>\r\n    <path clip-path=\"url(#pdeedabd3ed)\" d=\"M 468 440.22 \r\nL 560.16 440.22 \r\nL 560.16 532.38 \r\nL 468 532.38 \r\nL 468 440.22 \r\n\" style=\"fill:none;\"/>\r\n    <path clip-path=\"url(#pdeedabd3ed)\" d=\"M 99.36 532.38 \r\nL 191.52 532.38 \r\nL 191.52 624.54 \r\nL 99.36 624.54 \r\nL 99.36 532.38 \r\n\" style=\"fill:#eed0c0;\"/>\r\n    <path clip-path=\"url(#pdeedabd3ed)\" d=\"M 191.52 532.38 \r\nL 283.68 532.38 \r\nL 283.68 624.54 \r\nL 191.52 624.54 \r\nL 191.52 532.38 \r\n\" style=\"fill:#d75445;\"/>\r\n    <path clip-path=\"url(#pdeedabd3ed)\" d=\"M 283.68 532.38 \r\nL 375.84 532.38 \r\nL 375.84 624.54 \r\nL 283.68 624.54 \r\nL 283.68 532.38 \r\n\" style=\"fill:#c0282f;\"/>\r\n    <path clip-path=\"url(#pdeedabd3ed)\" d=\"M 375.84 532.38 \r\nL 468 532.38 \r\nL 468 624.54 \r\nL 375.84 624.54 \r\nL 375.84 532.38 \r\n\" style=\"fill:#be242e;\"/>\r\n    <path clip-path=\"url(#pdeedabd3ed)\" d=\"M 468 532.38 \r\nL 560.16 532.38 \r\nL 560.16 624.54 \r\nL 468 624.54 \r\nL 468 532.38 \r\n\" style=\"fill:none;\"/>\r\n   </g>\r\n   <g id=\"matplotlib.axis_1\">\r\n    <g id=\"xtick_1\">\r\n     <g id=\"line2d_1\">\r\n      <defs>\r\n       <path d=\"M 0 0 \r\nL 0 3.5 \r\n\" id=\"mf73aaa9ee5\" style=\"stroke:#000000;stroke-width:0.8;\"/>\r\n      </defs>\r\n      <g>\r\n       <use style=\"stroke:#000000;stroke-width:0.8;\" x=\"145.44\" xlink:href=\"#mf73aaa9ee5\" y=\"624.54\"/>\r\n      </g>\r\n     </g>\r\n     <g id=\"text_1\">\r\n      <!-- RG_SEX -->\r\n      <g transform=\"translate(125.832969 638.961875)scale(0.1 -0.1)\">\r\n       <defs>\r\n        <path d=\"M 2841 2188 \r\nQ 3044 2119 3236 1894 \r\nQ 3428 1669 3622 1275 \r\nL 4263 0 \r\nL 3584 0 \r\nL 2988 1197 \r\nQ 2756 1666 2539 1819 \r\nQ 2322 1972 1947 1972 \r\nL 1259 1972 \r\nL 1259 0 \r\nL 628 0 \r\nL 628 4666 \r\nL 2053 4666 \r\nQ 2853 4666 3247 4331 \r\nQ 3641 3997 3641 3322 \r\nQ 3641 2881 3436 2590 \r\nQ 3231 2300 2841 2188 \r\nz\r\nM 1259 4147 \r\nL 1259 2491 \r\nL 2053 2491 \r\nQ 2509 2491 2742 2702 \r\nQ 2975 2913 2975 3322 \r\nQ 2975 3731 2742 3939 \r\nQ 2509 4147 2053 4147 \r\nL 1259 4147 \r\nz\r\n\" id=\"DejaVuSans-52\" transform=\"scale(0.015625)\"/>\r\n        <path d=\"M 3809 666 \r\nL 3809 1919 \r\nL 2778 1919 \r\nL 2778 2438 \r\nL 4434 2438 \r\nL 4434 434 \r\nQ 4069 175 3628 42 \r\nQ 3188 -91 2688 -91 \r\nQ 1594 -91 976 548 \r\nQ 359 1188 359 2328 \r\nQ 359 3472 976 4111 \r\nQ 1594 4750 2688 4750 \r\nQ 3144 4750 3555 4637 \r\nQ 3966 4525 4313 4306 \r\nL 4313 3634 \r\nQ 3963 3931 3569 4081 \r\nQ 3175 4231 2741 4231 \r\nQ 1884 4231 1454 3753 \r\nQ 1025 3275 1025 2328 \r\nQ 1025 1384 1454 906 \r\nQ 1884 428 2741 428 \r\nQ 3075 428 3337 486 \r\nQ 3600 544 3809 666 \r\nz\r\n\" id=\"DejaVuSans-47\" transform=\"scale(0.015625)\"/>\r\n        <path d=\"M 3263 -1063 \r\nL 3263 -1509 \r\nL -63 -1509 \r\nL -63 -1063 \r\nL 3263 -1063 \r\nz\r\n\" id=\"DejaVuSans-5f\" transform=\"scale(0.015625)\"/>\r\n        <path d=\"M 3425 4513 \r\nL 3425 3897 \r\nQ 3066 4069 2747 4153 \r\nQ 2428 4238 2131 4238 \r\nQ 1616 4238 1336 4038 \r\nQ 1056 3838 1056 3469 \r\nQ 1056 3159 1242 3001 \r\nQ 1428 2844 1947 2747 \r\nL 2328 2669 \r\nQ 3034 2534 3370 2195 \r\nQ 3706 1856 3706 1288 \r\nQ 3706 609 3251 259 \r\nQ 2797 -91 1919 -91 \r\nQ 1588 -91 1214 -16 \r\nQ 841 59 441 206 \r\nL 441 856 \r\nQ 825 641 1194 531 \r\nQ 1563 422 1919 422 \r\nQ 2459 422 2753 634 \r\nQ 3047 847 3047 1241 \r\nQ 3047 1584 2836 1778 \r\nQ 2625 1972 2144 2069 \r\nL 1759 2144 \r\nQ 1053 2284 737 2584 \r\nQ 422 2884 422 3419 \r\nQ 422 4038 858 4394 \r\nQ 1294 4750 2059 4750 \r\nQ 2388 4750 2728 4690 \r\nQ 3069 4631 3425 4513 \r\nz\r\n\" id=\"DejaVuSans-53\" transform=\"scale(0.015625)\"/>\r\n        <path d=\"M 628 4666 \r\nL 3578 4666 \r\nL 3578 4134 \r\nL 1259 4134 \r\nL 1259 2753 \r\nL 3481 2753 \r\nL 3481 2222 \r\nL 1259 2222 \r\nL 1259 531 \r\nL 3634 531 \r\nL 3634 0 \r\nL 628 0 \r\nL 628 4666 \r\nz\r\n\" id=\"DejaVuSans-45\" transform=\"scale(0.015625)\"/>\r\n        <path d=\"M 403 4666 \r\nL 1081 4666 \r\nL 2241 2931 \r\nL 3406 4666 \r\nL 4084 4666 \r\nL 2584 2425 \r\nL 4184 0 \r\nL 3506 0 \r\nL 2194 1984 \r\nL 872 0 \r\nL 191 0 \r\nL 1856 2491 \r\nL 403 4666 \r\nz\r\n\" id=\"DejaVuSans-58\" transform=\"scale(0.015625)\"/>\r\n       </defs>\r\n       <use xlink:href=\"#DejaVuSans-52\"/>\r\n       <use x=\"69.482422\" xlink:href=\"#DejaVuSans-47\"/>\r\n       <use x=\"146.972656\" xlink:href=\"#DejaVuSans-5f\"/>\r\n       <use x=\"196.972656\" xlink:href=\"#DejaVuSans-53\"/>\r\n       <use x=\"260.449219\" xlink:href=\"#DejaVuSans-45\"/>\r\n       <use x=\"323.632812\" xlink:href=\"#DejaVuSans-58\"/>\r\n      </g>\r\n     </g>\r\n    </g>\r\n    <g id=\"xtick_2\">\r\n     <g id=\"line2d_2\">\r\n      <g>\r\n       <use style=\"stroke:#000000;stroke-width:0.8;\" x=\"237.6\" xlink:href=\"#mf73aaa9ee5\" y=\"624.54\"/>\r\n      </g>\r\n     </g>\r\n     <g id=\"text_2\">\r\n      <!-- RG_AGGREGATE -->\r\n      <g transform=\"translate(196.916406 638.961875)scale(0.1 -0.1)\">\r\n       <defs>\r\n        <path d=\"M 2188 4044 \r\nL 1331 1722 \r\nL 3047 1722 \r\nL 2188 4044 \r\nz\r\nM 1831 4666 \r\nL 2547 4666 \r\nL 4325 0 \r\nL 3669 0 \r\nL 3244 1197 \r\nL 1141 1197 \r\nL 716 0 \r\nL 50 0 \r\nL 1831 4666 \r\nz\r\n\" id=\"DejaVuSans-41\" transform=\"scale(0.015625)\"/>\r\n        <path d=\"M -19 4666 \r\nL 3928 4666 \r\nL 3928 4134 \r\nL 2272 4134 \r\nL 2272 0 \r\nL 1638 0 \r\nL 1638 4134 \r\nL -19 4134 \r\nL -19 4666 \r\nz\r\n\" id=\"DejaVuSans-54\" transform=\"scale(0.015625)\"/>\r\n       </defs>\r\n       <use xlink:href=\"#DejaVuSans-52\"/>\r\n       <use x=\"69.482422\" xlink:href=\"#DejaVuSans-47\"/>\r\n       <use x=\"146.972656\" xlink:href=\"#DejaVuSans-5f\"/>\r\n       <use x=\"196.972656\" xlink:href=\"#DejaVuSans-41\"/>\r\n       <use x=\"263.630859\" xlink:href=\"#DejaVuSans-47\"/>\r\n       <use x=\"341.121094\" xlink:href=\"#DejaVuSans-47\"/>\r\n       <use x=\"418.611328\" xlink:href=\"#DejaVuSans-52\"/>\r\n       <use x=\"488.09375\" xlink:href=\"#DejaVuSans-45\"/>\r\n       <use x=\"551.277344\" xlink:href=\"#DejaVuSans-47\"/>\r\n       <use x=\"628.767578\" xlink:href=\"#DejaVuSans-41\"/>\r\n       <use x=\"689.425781\" xlink:href=\"#DejaVuSans-54\"/>\r\n       <use x=\"750.509766\" xlink:href=\"#DejaVuSans-45\"/>\r\n      </g>\r\n     </g>\r\n    </g>\r\n    <g id=\"xtick_3\">\r\n     <g id=\"line2d_3\">\r\n      <g>\r\n       <use style=\"stroke:#000000;stroke-width:0.8;\" x=\"329.76\" xlink:href=\"#mf73aaa9ee5\" y=\"624.54\"/>\r\n      </g>\r\n     </g>\r\n     <g id=\"text_3\">\r\n      <!-- aggregate -->\r\n      <g transform=\"translate(304.052969 639.138437)scale(0.1 -0.1)\">\r\n       <defs>\r\n        <path d=\"M 2194 1759 \r\nQ 1497 1759 1228 1600 \r\nQ 959 1441 959 1056 \r\nQ 959 750 1161 570 \r\nQ 1363 391 1709 391 \r\nQ 2188 391 2477 730 \r\nQ 2766 1069 2766 1631 \r\nL 2766 1759 \r\nL 2194 1759 \r\nz\r\nM 3341 1997 \r\nL 3341 0 \r\nL 2766 0 \r\nL 2766 531 \r\nQ 2569 213 2275 61 \r\nQ 1981 -91 1556 -91 \r\nQ 1019 -91 701 211 \r\nQ 384 513 384 1019 \r\nQ 384 1609 779 1909 \r\nQ 1175 2209 1959 2209 \r\nL 2766 2209 \r\nL 2766 2266 \r\nQ 2766 2663 2505 2880 \r\nQ 2244 3097 1772 3097 \r\nQ 1472 3097 1187 3025 \r\nQ 903 2953 641 2809 \r\nL 641 3341 \r\nQ 956 3463 1253 3523 \r\nQ 1550 3584 1831 3584 \r\nQ 2591 3584 2966 3190 \r\nQ 3341 2797 3341 1997 \r\nz\r\n\" id=\"DejaVuSans-61\" transform=\"scale(0.015625)\"/>\r\n        <path d=\"M 2906 1791 \r\nQ 2906 2416 2648 2759 \r\nQ 2391 3103 1925 3103 \r\nQ 1463 3103 1205 2759 \r\nQ 947 2416 947 1791 \r\nQ 947 1169 1205 825 \r\nQ 1463 481 1925 481 \r\nQ 2391 481 2648 825 \r\nQ 2906 1169 2906 1791 \r\nz\r\nM 3481 434 \r\nQ 3481 -459 3084 -895 \r\nQ 2688 -1331 1869 -1331 \r\nQ 1566 -1331 1297 -1286 \r\nQ 1028 -1241 775 -1147 \r\nL 775 -588 \r\nQ 1028 -725 1275 -790 \r\nQ 1522 -856 1778 -856 \r\nQ 2344 -856 2625 -561 \r\nQ 2906 -266 2906 331 \r\nL 2906 616 \r\nQ 2728 306 2450 153 \r\nQ 2172 0 1784 0 \r\nQ 1141 0 747 490 \r\nQ 353 981 353 1791 \r\nQ 353 2603 747 3093 \r\nQ 1141 3584 1784 3584 \r\nQ 2172 3584 2450 3431 \r\nQ 2728 3278 2906 2969 \r\nL 2906 3500 \r\nL 3481 3500 \r\nL 3481 434 \r\nz\r\n\" id=\"DejaVuSans-67\" transform=\"scale(0.015625)\"/>\r\n        <path d=\"M 2631 2963 \r\nQ 2534 3019 2420 3045 \r\nQ 2306 3072 2169 3072 \r\nQ 1681 3072 1420 2755 \r\nQ 1159 2438 1159 1844 \r\nL 1159 0 \r\nL 581 0 \r\nL 581 3500 \r\nL 1159 3500 \r\nL 1159 2956 \r\nQ 1341 3275 1631 3429 \r\nQ 1922 3584 2338 3584 \r\nQ 2397 3584 2469 3576 \r\nQ 2541 3569 2628 3553 \r\nL 2631 2963 \r\nz\r\n\" id=\"DejaVuSans-72\" transform=\"scale(0.015625)\"/>\r\n        <path d=\"M 3597 1894 \r\nL 3597 1613 \r\nL 953 1613 \r\nQ 991 1019 1311 708 \r\nQ 1631 397 2203 397 \r\nQ 2534 397 2845 478 \r\nQ 3156 559 3463 722 \r\nL 3463 178 \r\nQ 3153 47 2828 -22 \r\nQ 2503 -91 2169 -91 \r\nQ 1331 -91 842 396 \r\nQ 353 884 353 1716 \r\nQ 353 2575 817 3079 \r\nQ 1281 3584 2069 3584 \r\nQ 2775 3584 3186 3129 \r\nQ 3597 2675 3597 1894 \r\nz\r\nM 3022 2063 \r\nQ 3016 2534 2758 2815 \r\nQ 2500 3097 2075 3097 \r\nQ 1594 3097 1305 2825 \r\nQ 1016 2553 972 2059 \r\nL 3022 2063 \r\nz\r\n\" id=\"DejaVuSans-65\" transform=\"scale(0.015625)\"/>\r\n        <path d=\"M 1172 4494 \r\nL 1172 3500 \r\nL 2356 3500 \r\nL 2356 3053 \r\nL 1172 3053 \r\nL 1172 1153 \r\nQ 1172 725 1289 603 \r\nQ 1406 481 1766 481 \r\nL 2356 481 \r\nL 2356 0 \r\nL 1766 0 \r\nQ 1100 0 847 248 \r\nQ 594 497 594 1153 \r\nL 594 3053 \r\nL 172 3053 \r\nL 172 3500 \r\nL 594 3500 \r\nL 594 4494 \r\nL 1172 4494 \r\nz\r\n\" id=\"DejaVuSans-74\" transform=\"scale(0.015625)\"/>\r\n       </defs>\r\n       <use xlink:href=\"#DejaVuSans-61\"/>\r\n       <use x=\"61.279297\" xlink:href=\"#DejaVuSans-67\"/>\r\n       <use x=\"124.755859\" xlink:href=\"#DejaVuSans-67\"/>\r\n       <use x=\"188.232422\" xlink:href=\"#DejaVuSans-72\"/>\r\n       <use x=\"227.095703\" xlink:href=\"#DejaVuSans-65\"/>\r\n       <use x=\"288.619141\" xlink:href=\"#DejaVuSans-67\"/>\r\n       <use x=\"352.095703\" xlink:href=\"#DejaVuSans-61\"/>\r\n       <use x=\"413.375\" xlink:href=\"#DejaVuSans-74\"/>\r\n       <use x=\"452.583984\" xlink:href=\"#DejaVuSans-65\"/>\r\n      </g>\r\n     </g>\r\n    </g>\r\n    <g id=\"xtick_4\">\r\n     <g id=\"line2d_4\">\r\n      <g>\r\n       <use style=\"stroke:#000000;stroke-width:0.8;\" x=\"421.92\" xlink:href=\"#mf73aaa9ee5\" y=\"624.54\"/>\r\n      </g>\r\n     </g>\r\n     <g id=\"text_4\">\r\n      <!-- Aggscore -->\r\n      <g transform=\"translate(398.718437 639.138437)scale(0.1 -0.1)\">\r\n       <defs>\r\n        <path d=\"M 2834 3397 \r\nL 2834 2853 \r\nQ 2591 2978 2328 3040 \r\nQ 2066 3103 1784 3103 \r\nQ 1356 3103 1142 2972 \r\nQ 928 2841 928 2578 \r\nQ 928 2378 1081 2264 \r\nQ 1234 2150 1697 2047 \r\nL 1894 2003 \r\nQ 2506 1872 2764 1633 \r\nQ 3022 1394 3022 966 \r\nQ 3022 478 2636 193 \r\nQ 2250 -91 1575 -91 \r\nQ 1294 -91 989 -36 \r\nQ 684 19 347 128 \r\nL 347 722 \r\nQ 666 556 975 473 \r\nQ 1284 391 1588 391 \r\nQ 1994 391 2212 530 \r\nQ 2431 669 2431 922 \r\nQ 2431 1156 2273 1281 \r\nQ 2116 1406 1581 1522 \r\nL 1381 1569 \r\nQ 847 1681 609 1914 \r\nQ 372 2147 372 2553 \r\nQ 372 3047 722 3315 \r\nQ 1072 3584 1716 3584 \r\nQ 2034 3584 2315 3537 \r\nQ 2597 3491 2834 3397 \r\nz\r\n\" id=\"DejaVuSans-73\" transform=\"scale(0.015625)\"/>\r\n        <path d=\"M 3122 3366 \r\nL 3122 2828 \r\nQ 2878 2963 2633 3030 \r\nQ 2388 3097 2138 3097 \r\nQ 1578 3097 1268 2742 \r\nQ 959 2388 959 1747 \r\nQ 959 1106 1268 751 \r\nQ 1578 397 2138 397 \r\nQ 2388 397 2633 464 \r\nQ 2878 531 3122 666 \r\nL 3122 134 \r\nQ 2881 22 2623 -34 \r\nQ 2366 -91 2075 -91 \r\nQ 1284 -91 818 406 \r\nQ 353 903 353 1747 \r\nQ 353 2603 823 3093 \r\nQ 1294 3584 2113 3584 \r\nQ 2378 3584 2631 3529 \r\nQ 2884 3475 3122 3366 \r\nz\r\n\" id=\"DejaVuSans-63\" transform=\"scale(0.015625)\"/>\r\n        <path d=\"M 1959 3097 \r\nQ 1497 3097 1228 2736 \r\nQ 959 2375 959 1747 \r\nQ 959 1119 1226 758 \r\nQ 1494 397 1959 397 \r\nQ 2419 397 2687 759 \r\nQ 2956 1122 2956 1747 \r\nQ 2956 2369 2687 2733 \r\nQ 2419 3097 1959 3097 \r\nz\r\nM 1959 3584 \r\nQ 2709 3584 3137 3096 \r\nQ 3566 2609 3566 1747 \r\nQ 3566 888 3137 398 \r\nQ 2709 -91 1959 -91 \r\nQ 1206 -91 779 398 \r\nQ 353 888 353 1747 \r\nQ 353 2609 779 3096 \r\nQ 1206 3584 1959 3584 \r\nz\r\n\" id=\"DejaVuSans-6f\" transform=\"scale(0.015625)\"/>\r\n       </defs>\r\n       <use xlink:href=\"#DejaVuSans-41\"/>\r\n       <use x=\"68.408203\" xlink:href=\"#DejaVuSans-67\"/>\r\n       <use x=\"131.884766\" xlink:href=\"#DejaVuSans-67\"/>\r\n       <use x=\"195.361328\" xlink:href=\"#DejaVuSans-73\"/>\r\n       <use x=\"247.460938\" xlink:href=\"#DejaVuSans-63\"/>\r\n       <use x=\"302.441406\" xlink:href=\"#DejaVuSans-6f\"/>\r\n       <use x=\"363.623047\" xlink:href=\"#DejaVuSans-72\"/>\r\n       <use x=\"402.486328\" xlink:href=\"#DejaVuSans-65\"/>\r\n      </g>\r\n     </g>\r\n    </g>\r\n    <g id=\"xtick_5\">\r\n     <g id=\"line2d_5\">\r\n      <g>\r\n       <use style=\"stroke:#000000;stroke-width:0.8;\" x=\"514.08\" xlink:href=\"#mf73aaa9ee5\" y=\"624.54\"/>\r\n      </g>\r\n     </g>\r\n     <g id=\"text_5\">\r\n      <!-- Performance metrics -->\r\n      <g transform=\"translate(462.103437 639.138437)scale(0.1 -0.1)\">\r\n       <defs>\r\n        <path d=\"M 1259 4147 \r\nL 1259 2394 \r\nL 2053 2394 \r\nQ 2494 2394 2734 2622 \r\nQ 2975 2850 2975 3272 \r\nQ 2975 3691 2734 3919 \r\nQ 2494 4147 2053 4147 \r\nL 1259 4147 \r\nz\r\nM 628 4666 \r\nL 2053 4666 \r\nQ 2838 4666 3239 4311 \r\nQ 3641 3956 3641 3272 \r\nQ 3641 2581 3239 2228 \r\nQ 2838 1875 2053 1875 \r\nL 1259 1875 \r\nL 1259 0 \r\nL 628 0 \r\nL 628 4666 \r\nz\r\n\" id=\"DejaVuSans-50\" transform=\"scale(0.015625)\"/>\r\n        <path d=\"M 2375 4863 \r\nL 2375 4384 \r\nL 1825 4384 \r\nQ 1516 4384 1395 4259 \r\nQ 1275 4134 1275 3809 \r\nL 1275 3500 \r\nL 2222 3500 \r\nL 2222 3053 \r\nL 1275 3053 \r\nL 1275 0 \r\nL 697 0 \r\nL 697 3053 \r\nL 147 3053 \r\nL 147 3500 \r\nL 697 3500 \r\nL 697 3744 \r\nQ 697 4328 969 4595 \r\nQ 1241 4863 1831 4863 \r\nL 2375 4863 \r\nz\r\n\" id=\"DejaVuSans-66\" transform=\"scale(0.015625)\"/>\r\n        <path d=\"M 3328 2828 \r\nQ 3544 3216 3844 3400 \r\nQ 4144 3584 4550 3584 \r\nQ 5097 3584 5394 3201 \r\nQ 5691 2819 5691 2113 \r\nL 5691 0 \r\nL 5113 0 \r\nL 5113 2094 \r\nQ 5113 2597 4934 2840 \r\nQ 4756 3084 4391 3084 \r\nQ 3944 3084 3684 2787 \r\nQ 3425 2491 3425 1978 \r\nL 3425 0 \r\nL 2847 0 \r\nL 2847 2094 \r\nQ 2847 2600 2669 2842 \r\nQ 2491 3084 2119 3084 \r\nQ 1678 3084 1418 2786 \r\nQ 1159 2488 1159 1978 \r\nL 1159 0 \r\nL 581 0 \r\nL 581 3500 \r\nL 1159 3500 \r\nL 1159 2956 \r\nQ 1356 3278 1631 3431 \r\nQ 1906 3584 2284 3584 \r\nQ 2666 3584 2933 3390 \r\nQ 3200 3197 3328 2828 \r\nz\r\n\" id=\"DejaVuSans-6d\" transform=\"scale(0.015625)\"/>\r\n        <path d=\"M 3513 2113 \r\nL 3513 0 \r\nL 2938 0 \r\nL 2938 2094 \r\nQ 2938 2591 2744 2837 \r\nQ 2550 3084 2163 3084 \r\nQ 1697 3084 1428 2787 \r\nQ 1159 2491 1159 1978 \r\nL 1159 0 \r\nL 581 0 \r\nL 581 3500 \r\nL 1159 3500 \r\nL 1159 2956 \r\nQ 1366 3272 1645 3428 \r\nQ 1925 3584 2291 3584 \r\nQ 2894 3584 3203 3211 \r\nQ 3513 2838 3513 2113 \r\nz\r\n\" id=\"DejaVuSans-6e\" transform=\"scale(0.015625)\"/>\r\n        <path id=\"DejaVuSans-20\" transform=\"scale(0.015625)\"/>\r\n        <path d=\"M 603 3500 \r\nL 1178 3500 \r\nL 1178 0 \r\nL 603 0 \r\nL 603 3500 \r\nz\r\nM 603 4863 \r\nL 1178 4863 \r\nL 1178 4134 \r\nL 603 4134 \r\nL 603 4863 \r\nz\r\n\" id=\"DejaVuSans-69\" transform=\"scale(0.015625)\"/>\r\n       </defs>\r\n       <use xlink:href=\"#DejaVuSans-50\"/>\r\n       <use x=\"56.677734\" xlink:href=\"#DejaVuSans-65\"/>\r\n       <use x=\"118.201172\" xlink:href=\"#DejaVuSans-72\"/>\r\n       <use x=\"159.314453\" xlink:href=\"#DejaVuSans-66\"/>\r\n       <use x=\"194.519531\" xlink:href=\"#DejaVuSans-6f\"/>\r\n       <use x=\"255.701172\" xlink:href=\"#DejaVuSans-72\"/>\r\n       <use x=\"295.064453\" xlink:href=\"#DejaVuSans-6d\"/>\r\n       <use x=\"392.476562\" xlink:href=\"#DejaVuSans-61\"/>\r\n       <use x=\"453.755859\" xlink:href=\"#DejaVuSans-6e\"/>\r\n       <use x=\"517.134766\" xlink:href=\"#DejaVuSans-63\"/>\r\n       <use x=\"572.115234\" xlink:href=\"#DejaVuSans-65\"/>\r\n       <use x=\"633.638672\" xlink:href=\"#DejaVuSans-20\"/>\r\n       <use x=\"665.425781\" xlink:href=\"#DejaVuSans-6d\"/>\r\n       <use x=\"762.837891\" xlink:href=\"#DejaVuSans-65\"/>\r\n       <use x=\"824.361328\" xlink:href=\"#DejaVuSans-74\"/>\r\n       <use x=\"863.570312\" xlink:href=\"#DejaVuSans-72\"/>\r\n       <use x=\"904.683594\" xlink:href=\"#DejaVuSans-69\"/>\r\n       <use x=\"932.466797\" xlink:href=\"#DejaVuSans-63\"/>\r\n       <use x=\"987.447266\" xlink:href=\"#DejaVuSans-73\"/>\r\n      </g>\r\n     </g>\r\n    </g>\r\n   </g>\r\n   <g id=\"matplotlib.axis_2\">\r\n    <g id=\"ytick_1\">\r\n     <g id=\"line2d_6\">\r\n      <defs>\r\n       <path d=\"M 0 0 \r\nL -3.5 0 \r\n\" id=\"m417207c7a7\" style=\"stroke:#000000;stroke-width:0.8;\"/>\r\n      </defs>\r\n      <g>\r\n       <use style=\"stroke:#000000;stroke-width:0.8;\" x=\"99.36\" xlink:href=\"#m417207c7a7\" y=\"209.82\"/>\r\n      </g>\r\n     </g>\r\n     <g id=\"text_6\">\r\n      <!-- RG_SEX -->\r\n      <g transform=\"translate(90.002187 245.323125)rotate(-90)scale(0.1 -0.1)\">\r\n       <use xlink:href=\"#DejaVuSans-52\"/>\r\n       <use x=\"69.482422\" xlink:href=\"#DejaVuSans-47\"/>\r\n       <use x=\"146.972656\" xlink:href=\"#DejaVuSans-5f\"/>\r\n       <use x=\"196.972656\" xlink:href=\"#DejaVuSans-53\"/>\r\n       <use x=\"260.449219\" xlink:href=\"#DejaVuSans-45\"/>\r\n       <use x=\"323.632812\" xlink:href=\"#DejaVuSans-58\"/>\r\n      </g>\r\n     </g>\r\n    </g>\r\n    <g id=\"ytick_2\">\r\n     <g id=\"line2d_7\">\r\n      <g>\r\n       <use style=\"stroke:#000000;stroke-width:0.8;\" x=\"99.36\" xlink:href=\"#m417207c7a7\" y=\"301.98\"/>\r\n      </g>\r\n     </g>\r\n     <g id=\"text_7\">\r\n      <!-- RG_AGGREGATE -->\r\n      <g transform=\"translate(90.002187 379.63625)rotate(-90)scale(0.1 -0.1)\">\r\n       <use xlink:href=\"#DejaVuSans-52\"/>\r\n       <use x=\"69.482422\" xlink:href=\"#DejaVuSans-47\"/>\r\n       <use x=\"146.972656\" xlink:href=\"#DejaVuSans-5f\"/>\r\n       <use x=\"196.972656\" xlink:href=\"#DejaVuSans-41\"/>\r\n       <use x=\"263.630859\" xlink:href=\"#DejaVuSans-47\"/>\r\n       <use x=\"341.121094\" xlink:href=\"#DejaVuSans-47\"/>\r\n       <use x=\"418.611328\" xlink:href=\"#DejaVuSans-52\"/>\r\n       <use x=\"488.09375\" xlink:href=\"#DejaVuSans-45\"/>\r\n       <use x=\"551.277344\" xlink:href=\"#DejaVuSans-47\"/>\r\n       <use x=\"628.767578\" xlink:href=\"#DejaVuSans-41\"/>\r\n       <use x=\"689.425781\" xlink:href=\"#DejaVuSans-54\"/>\r\n       <use x=\"750.509766\" xlink:href=\"#DejaVuSans-45\"/>\r\n      </g>\r\n     </g>\r\n    </g>\r\n    <g id=\"ytick_3\">\r\n     <g id=\"line2d_8\">\r\n      <g>\r\n       <use style=\"stroke:#000000;stroke-width:0.8;\" x=\"99.36\" xlink:href=\"#m417207c7a7\" y=\"394.14\"/>\r\n      </g>\r\n     </g>\r\n     <g id=\"text_8\">\r\n      <!-- aggregate -->\r\n      <g transform=\"translate(90.280312 441.754844)rotate(-90)scale(0.1 -0.1)\">\r\n       <use xlink:href=\"#DejaVuSans-61\"/>\r\n       <use x=\"61.279297\" xlink:href=\"#DejaVuSans-67\"/>\r\n       <use x=\"124.755859\" xlink:href=\"#DejaVuSans-67\"/>\r\n       <use x=\"188.232422\" xlink:href=\"#DejaVuSans-72\"/>\r\n       <use x=\"227.095703\" xlink:href=\"#DejaVuSans-65\"/>\r\n       <use x=\"288.619141\" xlink:href=\"#DejaVuSans-67\"/>\r\n       <use x=\"352.095703\" xlink:href=\"#DejaVuSans-61\"/>\r\n       <use x=\"413.375\" xlink:href=\"#DejaVuSans-74\"/>\r\n       <use x=\"452.583984\" xlink:href=\"#DejaVuSans-65\"/>\r\n      </g>\r\n     </g>\r\n    </g>\r\n    <g id=\"ytick_4\">\r\n     <g id=\"line2d_9\">\r\n      <g>\r\n       <use style=\"stroke:#000000;stroke-width:0.8;\" x=\"99.36\" xlink:href=\"#m417207c7a7\" y=\"486.3\"/>\r\n      </g>\r\n     </g>\r\n     <g id=\"text_9\">\r\n      <!-- Aggscore -->\r\n      <g transform=\"translate(90.280312 528.903906)rotate(-90)scale(0.1 -0.1)\">\r\n       <use xlink:href=\"#DejaVuSans-41\"/>\r\n       <use x=\"68.408203\" xlink:href=\"#DejaVuSans-67\"/>\r\n       <use x=\"131.884766\" xlink:href=\"#DejaVuSans-67\"/>\r\n       <use x=\"195.361328\" xlink:href=\"#DejaVuSans-73\"/>\r\n       <use x=\"247.460938\" xlink:href=\"#DejaVuSans-63\"/>\r\n       <use x=\"302.441406\" xlink:href=\"#DejaVuSans-6f\"/>\r\n       <use x=\"363.623047\" xlink:href=\"#DejaVuSans-72\"/>\r\n       <use x=\"402.486328\" xlink:href=\"#DejaVuSans-65\"/>\r\n      </g>\r\n     </g>\r\n    </g>\r\n    <g id=\"ytick_5\">\r\n     <g id=\"line2d_10\">\r\n      <g>\r\n       <use style=\"stroke:#000000;stroke-width:0.8;\" x=\"99.36\" xlink:href=\"#m417207c7a7\" y=\"578.46\"/>\r\n      </g>\r\n     </g>\r\n     <g id=\"text_10\">\r\n      <!-- Performance metrics -->\r\n      <g transform=\"translate(90.280312 678.613906)rotate(-90)scale(0.1 -0.1)\">\r\n       <use xlink:href=\"#DejaVuSans-50\"/>\r\n       <use x=\"56.677734\" xlink:href=\"#DejaVuSans-65\"/>\r\n       <use x=\"118.201172\" xlink:href=\"#DejaVuSans-72\"/>\r\n       <use x=\"159.314453\" xlink:href=\"#DejaVuSans-66\"/>\r\n       <use x=\"194.519531\" xlink:href=\"#DejaVuSans-6f\"/>\r\n       <use x=\"255.701172\" xlink:href=\"#DejaVuSans-72\"/>\r\n       <use x=\"295.064453\" xlink:href=\"#DejaVuSans-6d\"/>\r\n       <use x=\"392.476562\" xlink:href=\"#DejaVuSans-61\"/>\r\n       <use x=\"453.755859\" xlink:href=\"#DejaVuSans-6e\"/>\r\n       <use x=\"517.134766\" xlink:href=\"#DejaVuSans-63\"/>\r\n       <use x=\"572.115234\" xlink:href=\"#DejaVuSans-65\"/>\r\n       <use x=\"633.638672\" xlink:href=\"#DejaVuSans-20\"/>\r\n       <use x=\"665.425781\" xlink:href=\"#DejaVuSans-6d\"/>\r\n       <use x=\"762.837891\" xlink:href=\"#DejaVuSans-65\"/>\r\n       <use x=\"824.361328\" xlink:href=\"#DejaVuSans-74\"/>\r\n       <use x=\"863.570312\" xlink:href=\"#DejaVuSans-72\"/>\r\n       <use x=\"904.683594\" xlink:href=\"#DejaVuSans-69\"/>\r\n       <use x=\"932.466797\" xlink:href=\"#DejaVuSans-63\"/>\r\n       <use x=\"987.447266\" xlink:href=\"#DejaVuSans-73\"/>\r\n      </g>\r\n     </g>\r\n    </g>\r\n   </g>\r\n   <g id=\"text_11\">\r\n    <!-- 0.12 -->\r\n    <g style=\"fill:#262626;\" transform=\"translate(134.307187 304.739375)scale(0.1 -0.1)\">\r\n     <defs>\r\n      <path d=\"M 2034 4250 \r\nQ 1547 4250 1301 3770 \r\nQ 1056 3291 1056 2328 \r\nQ 1056 1369 1301 889 \r\nQ 1547 409 2034 409 \r\nQ 2525 409 2770 889 \r\nQ 3016 1369 3016 2328 \r\nQ 3016 3291 2770 3770 \r\nQ 2525 4250 2034 4250 \r\nz\r\nM 2034 4750 \r\nQ 2819 4750 3233 4129 \r\nQ 3647 3509 3647 2328 \r\nQ 3647 1150 3233 529 \r\nQ 2819 -91 2034 -91 \r\nQ 1250 -91 836 529 \r\nQ 422 1150 422 2328 \r\nQ 422 3509 836 4129 \r\nQ 1250 4750 2034 4750 \r\nz\r\n\" id=\"DejaVuSans-30\" transform=\"scale(0.015625)\"/>\r\n      <path d=\"M 684 794 \r\nL 1344 794 \r\nL 1344 0 \r\nL 684 0 \r\nL 684 794 \r\nz\r\n\" id=\"DejaVuSans-2e\" transform=\"scale(0.015625)\"/>\r\n      <path d=\"M 794 531 \r\nL 1825 531 \r\nL 1825 4091 \r\nL 703 3866 \r\nL 703 4441 \r\nL 1819 4666 \r\nL 2450 4666 \r\nL 2450 531 \r\nL 3481 531 \r\nL 3481 0 \r\nL 794 0 \r\nL 794 531 \r\nz\r\n\" id=\"DejaVuSans-31\" transform=\"scale(0.015625)\"/>\r\n      <path d=\"M 1228 531 \r\nL 3431 531 \r\nL 3431 0 \r\nL 469 0 \r\nL 469 531 \r\nQ 828 903 1448 1529 \r\nQ 2069 2156 2228 2338 \r\nQ 2531 2678 2651 2914 \r\nQ 2772 3150 2772 3378 \r\nQ 2772 3750 2511 3984 \r\nQ 2250 4219 1831 4219 \r\nQ 1534 4219 1204 4116 \r\nQ 875 4013 500 3803 \r\nL 500 4441 \r\nQ 881 4594 1212 4672 \r\nQ 1544 4750 1819 4750 \r\nQ 2544 4750 2975 4387 \r\nQ 3406 4025 3406 3419 \r\nQ 3406 3131 3298 2873 \r\nQ 3191 2616 2906 2266 \r\nQ 2828 2175 2409 1742 \r\nQ 1991 1309 1228 531 \r\nz\r\n\" id=\"DejaVuSans-32\" transform=\"scale(0.015625)\"/>\r\n     </defs>\r\n     <use xlink:href=\"#DejaVuSans-30\"/>\r\n     <use x=\"63.623047\" xlink:href=\"#DejaVuSans-2e\"/>\r\n     <use x=\"95.410156\" xlink:href=\"#DejaVuSans-31\"/>\r\n     <use x=\"159.033203\" xlink:href=\"#DejaVuSans-32\"/>\r\n    </g>\r\n   </g>\r\n   <g id=\"text_12\">\r\n    <!-- 0.14 -->\r\n    <g style=\"fill:#262626;\" transform=\"translate(134.307187 396.899375)scale(0.1 -0.1)\">\r\n     <defs>\r\n      <path d=\"M 2419 4116 \r\nL 825 1625 \r\nL 2419 1625 \r\nL 2419 4116 \r\nz\r\nM 2253 4666 \r\nL 3047 4666 \r\nL 3047 1625 \r\nL 3713 1625 \r\nL 3713 1100 \r\nL 3047 1100 \r\nL 3047 0 \r\nL 2419 0 \r\nL 2419 1100 \r\nL 313 1100 \r\nL 313 1709 \r\nL 2253 4666 \r\nz\r\n\" id=\"DejaVuSans-34\" transform=\"scale(0.015625)\"/>\r\n     </defs>\r\n     <use xlink:href=\"#DejaVuSans-30\"/>\r\n     <use x=\"63.623047\" xlink:href=\"#DejaVuSans-2e\"/>\r\n     <use x=\"95.410156\" xlink:href=\"#DejaVuSans-31\"/>\r\n     <use x=\"159.033203\" xlink:href=\"#DejaVuSans-34\"/>\r\n    </g>\r\n   </g>\r\n   <g id=\"text_13\">\r\n    <!-- 0.58 -->\r\n    <g style=\"fill:#ffffff;\" transform=\"translate(226.467187 396.899375)scale(0.1 -0.1)\">\r\n     <defs>\r\n      <path d=\"M 691 4666 \r\nL 3169 4666 \r\nL 3169 4134 \r\nL 1269 4134 \r\nL 1269 2991 \r\nQ 1406 3038 1543 3061 \r\nQ 1681 3084 1819 3084 \r\nQ 2600 3084 3056 2656 \r\nQ 3513 2228 3513 1497 \r\nQ 3513 744 3044 326 \r\nQ 2575 -91 1722 -91 \r\nQ 1428 -91 1123 -41 \r\nQ 819 9 494 109 \r\nL 494 744 \r\nQ 775 591 1075 516 \r\nQ 1375 441 1709 441 \r\nQ 2250 441 2565 725 \r\nQ 2881 1009 2881 1497 \r\nQ 2881 1984 2565 2268 \r\nQ 2250 2553 1709 2553 \r\nQ 1456 2553 1204 2497 \r\nQ 953 2441 691 2322 \r\nL 691 4666 \r\nz\r\n\" id=\"DejaVuSans-35\" transform=\"scale(0.015625)\"/>\r\n      <path d=\"M 2034 2216 \r\nQ 1584 2216 1326 1975 \r\nQ 1069 1734 1069 1313 \r\nQ 1069 891 1326 650 \r\nQ 1584 409 2034 409 \r\nQ 2484 409 2743 651 \r\nQ 3003 894 3003 1313 \r\nQ 3003 1734 2745 1975 \r\nQ 2488 2216 2034 2216 \r\nz\r\nM 1403 2484 \r\nQ 997 2584 770 2862 \r\nQ 544 3141 544 3541 \r\nQ 544 4100 942 4425 \r\nQ 1341 4750 2034 4750 \r\nQ 2731 4750 3128 4425 \r\nQ 3525 4100 3525 3541 \r\nQ 3525 3141 3298 2862 \r\nQ 3072 2584 2669 2484 \r\nQ 3125 2378 3379 2068 \r\nQ 3634 1759 3634 1313 \r\nQ 3634 634 3220 271 \r\nQ 2806 -91 2034 -91 \r\nQ 1263 -91 848 271 \r\nQ 434 634 434 1313 \r\nQ 434 1759 690 2068 \r\nQ 947 2378 1403 2484 \r\nz\r\nM 1172 3481 \r\nQ 1172 3119 1398 2916 \r\nQ 1625 2713 2034 2713 \r\nQ 2441 2713 2670 2916 \r\nQ 2900 3119 2900 3481 \r\nQ 2900 3844 2670 4047 \r\nQ 2441 4250 2034 4250 \r\nQ 1625 4250 1398 4047 \r\nQ 1172 3844 1172 3481 \r\nz\r\n\" id=\"DejaVuSans-38\" transform=\"scale(0.015625)\"/>\r\n     </defs>\r\n     <use xlink:href=\"#DejaVuSans-30\"/>\r\n     <use x=\"63.623047\" xlink:href=\"#DejaVuSans-2e\"/>\r\n     <use x=\"95.410156\" xlink:href=\"#DejaVuSans-35\"/>\r\n     <use x=\"159.033203\" xlink:href=\"#DejaVuSans-38\"/>\r\n    </g>\r\n   </g>\r\n   <g id=\"text_14\">\r\n    <!-- 0.14 -->\r\n    <g style=\"fill:#262626;\" transform=\"translate(134.307187 489.059375)scale(0.1 -0.1)\">\r\n     <use xlink:href=\"#DejaVuSans-30\"/>\r\n     <use x=\"63.623047\" xlink:href=\"#DejaVuSans-2e\"/>\r\n     <use x=\"95.410156\" xlink:href=\"#DejaVuSans-31\"/>\r\n     <use x=\"159.033203\" xlink:href=\"#DejaVuSans-34\"/>\r\n    </g>\r\n   </g>\r\n   <g id=\"text_15\">\r\n    <!-- 0.6 -->\r\n    <g style=\"fill:#ffffff;\" transform=\"translate(229.648438 489.059375)scale(0.1 -0.1)\">\r\n     <defs>\r\n      <path d=\"M 2113 2584 \r\nQ 1688 2584 1439 2293 \r\nQ 1191 2003 1191 1497 \r\nQ 1191 994 1439 701 \r\nQ 1688 409 2113 409 \r\nQ 2538 409 2786 701 \r\nQ 3034 994 3034 1497 \r\nQ 3034 2003 2786 2293 \r\nQ 2538 2584 2113 2584 \r\nz\r\nM 3366 4563 \r\nL 3366 3988 \r\nQ 3128 4100 2886 4159 \r\nQ 2644 4219 2406 4219 \r\nQ 1781 4219 1451 3797 \r\nQ 1122 3375 1075 2522 \r\nQ 1259 2794 1537 2939 \r\nQ 1816 3084 2150 3084 \r\nQ 2853 3084 3261 2657 \r\nQ 3669 2231 3669 1497 \r\nQ 3669 778 3244 343 \r\nQ 2819 -91 2113 -91 \r\nQ 1303 -91 875 529 \r\nQ 447 1150 447 2328 \r\nQ 447 3434 972 4092 \r\nQ 1497 4750 2381 4750 \r\nQ 2619 4750 2861 4703 \r\nQ 3103 4656 3366 4563 \r\nz\r\n\" id=\"DejaVuSans-36\" transform=\"scale(0.015625)\"/>\r\n     </defs>\r\n     <use xlink:href=\"#DejaVuSans-30\"/>\r\n     <use x=\"63.623047\" xlink:href=\"#DejaVuSans-2e\"/>\r\n     <use x=\"95.410156\" xlink:href=\"#DejaVuSans-36\"/>\r\n    </g>\r\n   </g>\r\n   <g id=\"text_16\">\r\n    <!-- 0.9 -->\r\n    <g style=\"fill:#ffffff;\" transform=\"translate(321.808437 489.059375)scale(0.1 -0.1)\">\r\n     <defs>\r\n      <path d=\"M 703 97 \r\nL 703 672 \r\nQ 941 559 1184 500 \r\nQ 1428 441 1663 441 \r\nQ 2288 441 2617 861 \r\nQ 2947 1281 2994 2138 \r\nQ 2813 1869 2534 1725 \r\nQ 2256 1581 1919 1581 \r\nQ 1219 1581 811 2004 \r\nQ 403 2428 403 3163 \r\nQ 403 3881 828 4315 \r\nQ 1253 4750 1959 4750 \r\nQ 2769 4750 3195 4129 \r\nQ 3622 3509 3622 2328 \r\nQ 3622 1225 3098 567 \r\nQ 2575 -91 1691 -91 \r\nQ 1453 -91 1209 -44 \r\nQ 966 3 703 97 \r\nz\r\nM 1959 2075 \r\nQ 2384 2075 2632 2365 \r\nQ 2881 2656 2881 3163 \r\nQ 2881 3666 2632 3958 \r\nQ 2384 4250 1959 4250 \r\nQ 1534 4250 1286 3958 \r\nQ 1038 3666 1038 3163 \r\nQ 1038 2656 1286 2365 \r\nQ 1534 2075 1959 2075 \r\nz\r\n\" id=\"DejaVuSans-39\" transform=\"scale(0.015625)\"/>\r\n     </defs>\r\n     <use xlink:href=\"#DejaVuSans-30\"/>\r\n     <use x=\"63.623047\" xlink:href=\"#DejaVuSans-2e\"/>\r\n     <use x=\"95.410156\" xlink:href=\"#DejaVuSans-39\"/>\r\n    </g>\r\n   </g>\r\n   <g id=\"text_17\">\r\n    <!-- 0.15 -->\r\n    <g style=\"fill:#262626;\" transform=\"translate(134.307187 581.219375)scale(0.1 -0.1)\">\r\n     <use xlink:href=\"#DejaVuSans-30\"/>\r\n     <use x=\"63.623047\" xlink:href=\"#DejaVuSans-2e\"/>\r\n     <use x=\"95.410156\" xlink:href=\"#DejaVuSans-31\"/>\r\n     <use x=\"159.033203\" xlink:href=\"#DejaVuSans-35\"/>\r\n    </g>\r\n   </g>\r\n   <g id=\"text_18\">\r\n    <!-- 0.8 -->\r\n    <g style=\"fill:#ffffff;\" transform=\"translate(229.648438 581.219375)scale(0.1 -0.1)\">\r\n     <use xlink:href=\"#DejaVuSans-30\"/>\r\n     <use x=\"63.623047\" xlink:href=\"#DejaVuSans-2e\"/>\r\n     <use x=\"95.410156\" xlink:href=\"#DejaVuSans-38\"/>\r\n    </g>\r\n   </g>\r\n   <g id=\"text_19\">\r\n    <!-- 0.94 -->\r\n    <g style=\"fill:#ffffff;\" transform=\"translate(318.627187 581.219375)scale(0.1 -0.1)\">\r\n     <use xlink:href=\"#DejaVuSans-30\"/>\r\n     <use x=\"63.623047\" xlink:href=\"#DejaVuSans-2e\"/>\r\n     <use x=\"95.410156\" xlink:href=\"#DejaVuSans-39\"/>\r\n     <use x=\"159.033203\" xlink:href=\"#DejaVuSans-34\"/>\r\n    </g>\r\n   </g>\r\n   <g id=\"text_20\">\r\n    <!-- 0.94 -->\r\n    <g style=\"fill:#ffffff;\" transform=\"translate(410.787187 581.219375)scale(0.1 -0.1)\">\r\n     <use xlink:href=\"#DejaVuSans-30\"/>\r\n     <use x=\"63.623047\" xlink:href=\"#DejaVuSans-2e\"/>\r\n     <use x=\"95.410156\" xlink:href=\"#DejaVuSans-39\"/>\r\n     <use x=\"159.033203\" xlink:href=\"#DejaVuSans-34\"/>\r\n    </g>\r\n   </g>\r\n   <g id=\"text_21\">\r\n    <!-- Correlation Among Features -->\r\n    <g transform=\"translate(7.2 25.5)scale(0.24 -0.24)\">\r\n     <defs>\r\n      <path d=\"M 2291 4458 \r\nQ 2710 4458 2988 4354 \r\nQ 3267 4250 3523 4045 \r\nL 3274 3760 \r\nQ 3059 3942 2824 4014 \r\nQ 2589 4086 2336 4086 \r\nQ 1952 4086 1621 3910 \r\nQ 1290 3734 1088 3323 \r\nQ 886 2912 886 2198 \r\nQ 886 1504 1078 1091 \r\nQ 1270 678 1595 496 \r\nQ 1920 314 2317 314 \r\nQ 2698 314 2942 422 \r\nQ 3187 531 3360 675 \r\nL 3590 381 \r\nQ 3405 202 3093 69 \r\nQ 2781 -64 2323 -64 \r\nQ 1808 -64 1384 197 \r\nQ 960 458 710 962 \r\nQ 461 1466 461 2198 \r\nQ 461 2941 715 3443 \r\nQ 970 3946 1387 4202 \r\nQ 1805 4458 2291 4458 \r\nz\r\n\" id=\"FiraCode-Light-43\" transform=\"scale(0.015625)\"/>\r\n      <path d=\"M 1930 3421 \r\nQ 2390 3421 2697 3206 \r\nQ 3005 2992 3157 2601 \r\nQ 3309 2211 3309 1680 \r\nQ 3309 1181 3152 787 \r\nQ 2995 394 2686 165 \r\nQ 2378 -64 1920 -64 \r\nQ 1459 -64 1150 155 \r\nQ 842 374 686 766 \r\nQ 531 1158 531 1674 \r\nQ 531 2189 688 2582 \r\nQ 845 2976 1157 3198 \r\nQ 1469 3421 1930 3421 \r\nz\r\nM 1930 3072 \r\nQ 1456 3072 1211 2729 \r\nQ 966 2387 966 1674 \r\nQ 966 976 1206 632 \r\nQ 1446 288 1920 288 \r\nQ 2394 288 2634 632 \r\nQ 2874 976 2874 1680 \r\nQ 2874 2387 2635 2729 \r\nQ 2397 3072 1930 3072 \r\nz\r\n\" id=\"FiraCode-Light-6f\" transform=\"scale(0.015625)\"/>\r\n      <path d=\"M 733 0 \r\nL 733 333 \r\nL 1280 333 \r\nL 1280 3024 \r\nL 733 3024 \r\nL 733 3360 \r\nL 1584 3360 \r\nL 1658 2554 \r\nQ 1856 2963 2133 3195 \r\nQ 2410 3427 2880 3427 \r\nQ 3011 3427 3115 3408 \r\nQ 3219 3389 3334 3360 \r\nL 3222 2986 \r\nQ 3110 3018 3025 3032 \r\nQ 2941 3046 2832 3046 \r\nQ 2426 3046 2141 2769 \r\nQ 1856 2493 1677 1894 \r\nL 1677 333 \r\nL 2368 333 \r\nL 2368 0 \r\nL 733 0 \r\nz\r\nM 2906 2304 \r\nL 2906 2960 \r\nL 2931 3360 \r\nL 3334 3360 \r\nL 3290 2304 \r\nL 2906 2304 \r\nz\r\n\" id=\"FiraCode-Light-72\" transform=\"scale(0.015625)\"/>\r\n      <path d=\"M 989 1520 \r\nQ 998 1098 1140 827 \r\nQ 1283 557 1516 429 \r\nQ 1750 301 2026 301 \r\nQ 2291 301 2497 377 \r\nQ 2704 454 2931 611 \r\nL 3139 314 \r\nQ 2906 134 2613 35 \r\nQ 2320 -64 2042 -64 \r\nQ 1578 -64 1246 153 \r\nQ 915 371 739 763 \r\nQ 563 1155 563 1677 \r\nQ 563 2189 742 2582 \r\nQ 922 2976 1240 3198 \r\nQ 1558 3421 1981 3421 \r\nQ 2390 3421 2681 3222 \r\nQ 2973 3024 3128 2661 \r\nQ 3283 2298 3283 1795 \r\nQ 3283 1709 3280 1640 \r\nQ 3277 1571 3274 1520 \r\nL 989 1520 \r\nz\r\nM 1990 3050 \r\nQ 1584 3050 1307 2762 \r\nQ 1030 2474 995 1878 \r\nL 2906 1878 \r\nQ 2893 2470 2640 2760 \r\nQ 2387 3050 1990 3050 \r\nz\r\n\" id=\"FiraCode-Light-65\" transform=\"scale(0.015625)\"/>\r\n      <path d=\"M 1875 4720 \r\nL 1875 762 \r\nQ 1875 499 2043 390 \r\nQ 2211 282 2467 282 \r\nQ 2627 282 2769 314 \r\nQ 2912 346 3059 403 \r\nL 3174 96 \r\nQ 3050 35 2858 -14 \r\nQ 2666 -64 2429 -64 \r\nQ 2032 -64 1755 152 \r\nQ 1478 368 1478 762 \r\nL 1478 4374 \r\nL 435 4374 \r\nL 435 4720 \r\nL 1875 4720 \r\nz\r\n\" id=\"FiraCode-Light-6c\" transform=\"scale(0.015625)\"/>\r\n      <path d=\"M 2982 662 \r\nQ 2982 458 3052 363 \r\nQ 3123 269 3270 224 \r\nL 3162 -67 \r\nQ 2970 -38 2819 74 \r\nQ 2669 186 2608 416 \r\nQ 2432 182 2168 59 \r\nQ 1904 -64 1571 -64 \r\nQ 1072 -64 787 217 \r\nQ 502 499 502 970 \r\nQ 502 1482 900 1754 \r\nQ 1299 2026 2061 2026 \r\nL 2570 2026 \r\nL 2570 2352 \r\nQ 2570 2746 2344 2904 \r\nQ 2118 3062 1728 3062 \r\nQ 1558 3062 1344 3024 \r\nQ 1130 2986 867 2893 \r\nL 752 3219 \r\nQ 1056 3331 1304 3376 \r\nQ 1552 3421 1786 3421 \r\nQ 2378 3421 2680 3131 \r\nQ 2982 2842 2982 2365 \r\nL 2982 662 \r\nz\r\nM 1648 253 \r\nQ 1923 253 2163 387 \r\nQ 2403 522 2570 762 \r\nL 2570 1722 \r\nL 2013 1722 \r\nQ 1414 1722 1177 1512 \r\nQ 941 1302 941 957 \r\nQ 941 608 1113 430 \r\nQ 1286 253 1648 253 \r\nz\r\n\" id=\"FiraCode-Light-61\" transform=\"scale(0.015625)\"/>\r\n      <path d=\"M 3264 160 \r\nQ 3098 51 2861 -6 \r\nQ 2624 -64 2422 -64 \r\nQ 1917 -64 1630 205 \r\nQ 1344 474 1344 880 \r\nL 1344 3027 \r\nL 550 3027 \r\nL 550 3360 \r\nL 1344 3360 \r\nL 1344 4134 \r\nL 1741 4182 \r\nL 1741 3360 \r\nL 2925 3360 \r\nL 2870 3027 \r\nL 1741 3027 \r\nL 1741 890 \r\nQ 1741 598 1899 440 \r\nQ 2058 282 2432 282 \r\nQ 2624 282 2787 326 \r\nQ 2950 371 3091 445 \r\nL 3264 160 \r\nz\r\n\" id=\"FiraCode-Light-74\" transform=\"scale(0.015625)\"/>\r\n      <path d=\"M 2298 3360 \r\nL 2298 346 \r\nL 3274 346 \r\nL 3274 0 \r\nL 838 0 \r\nL 838 346 \r\nL 1901 346 \r\nL 1901 3014 \r\nL 870 3014 \r\nL 870 3360 \r\nL 2298 3360 \r\nz\r\nM 1923 4880 \r\nQ 2077 4880 2166 4787 \r\nQ 2256 4694 2256 4563 \r\nQ 2256 4422 2166 4328 \r\nQ 2077 4234 1923 4234 \r\nQ 1779 4234 1689 4328 \r\nQ 1600 4422 1600 4563 \r\nQ 1600 4694 1689 4787 \r\nQ 1779 4880 1923 4880 \r\nz\r\n\" id=\"FiraCode-Light-69\" transform=\"scale(0.015625)\"/>\r\n      <path d=\"M 701 0 \r\nL 701 3360 \r\nL 1034 3360 \r\nL 1066 2870 \r\nQ 1264 3133 1589 3277 \r\nQ 1914 3421 2195 3421 \r\nQ 2710 3421 2929 3158 \r\nQ 3149 2896 3149 2432 \r\nL 3149 0 \r\nL 2752 0 \r\nL 2752 2006 \r\nQ 2752 2390 2710 2630 \r\nQ 2669 2870 2531 2980 \r\nQ 2394 3091 2099 3091 \r\nQ 1875 3091 1678 2993 \r\nQ 1482 2896 1333 2753 \r\nQ 1184 2611 1098 2477 \r\nL 1098 0 \r\nL 701 0 \r\nz\r\n\" id=\"FiraCode-Light-6e\" transform=\"scale(0.015625)\"/>\r\n      <path id=\"FiraCode-Light-20\" transform=\"scale(0.015625)\"/>\r\n      <path d=\"M 2838 1174 \r\nL 963 1174 \r\nL 576 0 \r\nL 192 0 \r\nL 1648 4397 \r\nL 2189 4397 \r\nL 3648 0 \r\nL 3226 0 \r\nL 2838 1174 \r\nz\r\nM 1101 1546 \r\nL 2704 1546 \r\nL 1907 4016 \r\nL 1101 1546 \r\nz\r\n\" id=\"FiraCode-Light-41\" transform=\"scale(0.015625)\"/>\r\n      <path d=\"M 2835 3421 \r\nQ 2973 3421 3120 3358 \r\nQ 3267 3296 3369 3101 \r\nQ 3472 2906 3472 2506 \r\nL 3472 0 \r\nL 3082 0 \r\nL 3082 2429 \r\nQ 3082 2787 3042 2947 \r\nQ 3002 3107 2797 3107 \r\nQ 2624 3107 2456 3000 \r\nQ 2288 2893 2138 2650 \r\nL 2138 0 \r\nL 1696 0 \r\nL 1696 2429 \r\nQ 1696 2787 1656 2947 \r\nQ 1616 3107 1411 3107 \r\nQ 1232 3107 1067 3000 \r\nQ 902 2893 752 2650 \r\nL 752 0 \r\nL 368 0 \r\nL 368 3360 \r\nL 694 3360 \r\nL 717 2954 \r\nQ 848 3142 1022 3281 \r\nQ 1197 3421 1456 3421 \r\nQ 1648 3421 1829 3329 \r\nQ 2010 3238 2096 2963 \r\nQ 2227 3168 2396 3294 \r\nQ 2566 3421 2835 3421 \r\nz\r\n\" id=\"FiraCode-Light-6d\" transform=\"scale(0.015625)\"/>\r\n      <path d=\"M 3357 3664 \r\nL 3504 3229 \r\nQ 3277 3165 3033 3152 \r\nQ 2790 3139 2515 3139 \r\nQ 2800 3008 2941 2792 \r\nQ 3082 2576 3082 2301 \r\nQ 3082 1968 2938 1707 \r\nQ 2794 1446 2523 1299 \r\nQ 2253 1152 1866 1152 \r\nQ 1677 1152 1558 1169 \r\nQ 1440 1187 1328 1226 \r\nQ 1248 1165 1192 1065 \r\nQ 1136 966 1136 858 \r\nQ 1136 726 1240 640 \r\nQ 1344 554 1610 554 \r\nL 2230 554 \r\nQ 2554 554 2818 435 \r\nQ 3082 317 3237 115 \r\nQ 3392 -86 3392 -339 \r\nQ 3392 -829 2981 -1083 \r\nQ 2570 -1338 1843 -1338 \r\nQ 1341 -1338 1043 -1234 \r\nQ 746 -1130 616 -910 \r\nQ 486 -691 486 -346 \r\nL 851 -346 \r\nQ 851 -557 932 -694 \r\nQ 1014 -832 1225 -901 \r\nQ 1437 -970 1830 -970 \r\nQ 2218 -970 2472 -904 \r\nQ 2726 -838 2854 -704 \r\nQ 2982 -570 2982 -365 \r\nQ 2982 -99 2736 32 \r\nQ 2490 163 2144 163 \r\nL 1523 163 \r\nQ 1120 163 928 352 \r\nQ 736 541 736 784 \r\nQ 736 938 827 1086 \r\nQ 918 1235 1101 1357 \r\nQ 822 1504 684 1728 \r\nQ 547 1952 547 2275 \r\nQ 547 2605 710 2864 \r\nQ 874 3123 1165 3273 \r\nQ 1456 3424 1840 3424 \r\nQ 2278 3430 2539 3457 \r\nQ 2800 3485 2981 3536 \r\nQ 3162 3587 3357 3664 \r\nz\r\nM 1830 3110 \r\nQ 1376 3110 1166 2870 \r\nQ 957 2630 957 2269 \r\nQ 957 1910 1171 1668 \r\nQ 1386 1427 1850 1427 \r\nQ 2237 1427 2441 1651 \r\nQ 2646 1875 2646 2272 \r\nQ 2646 2682 2441 2896 \r\nQ 2237 3110 1830 3110 \r\nz\r\n\" id=\"FiraCode-Light-67\" transform=\"scale(0.015625)\"/>\r\n      <path d=\"M 1347 4032 \r\nL 1347 2378 \r\nL 3126 2378 \r\nL 3126 2022 \r\nL 1347 2022 \r\nL 1347 0 \r\nL 944 0 \r\nL 944 4397 \r\nL 3443 4397 \r\nL 3389 4032 \r\nL 1347 4032 \r\nz\r\n\" id=\"FiraCode-Light-46\" transform=\"scale(0.015625)\"/>\r\n      <path d=\"M 1098 3360 \r\nL 1098 957 \r\nQ 1098 598 1250 433 \r\nQ 1402 269 1731 269 \r\nQ 2045 269 2320 446 \r\nQ 2595 624 2742 854 \r\nL 2742 3360 \r\nL 3139 3360 \r\nL 3139 0 \r\nL 2806 0 \r\nL 2762 470 \r\nQ 2557 214 2262 75 \r\nQ 1968 -64 1674 -64 \r\nQ 1187 -64 944 190 \r\nQ 701 445 701 909 \r\nL 701 3360 \r\nL 1098 3360 \r\nz\r\n\" id=\"FiraCode-Light-75\" transform=\"scale(0.015625)\"/>\r\n      <path d=\"M 1782 298 \r\nQ 2211 298 2456 462 \r\nQ 2701 627 2701 896 \r\nQ 2701 1062 2648 1185 \r\nQ 2595 1309 2420 1406 \r\nQ 2246 1504 1885 1590 \r\nQ 1523 1680 1259 1789 \r\nQ 995 1898 851 2074 \r\nQ 707 2250 707 2541 \r\nQ 707 2819 865 3016 \r\nQ 1024 3213 1301 3317 \r\nQ 1578 3421 1926 3421 \r\nQ 2320 3421 2613 3315 \r\nQ 2906 3210 3104 3059 \r\nL 2918 2765 \r\nQ 2733 2896 2505 2982 \r\nQ 2278 3069 1930 3069 \r\nQ 1485 3069 1305 2928 \r\nQ 1126 2787 1126 2573 \r\nQ 1126 2406 1214 2299 \r\nQ 1302 2192 1504 2110 \r\nQ 1706 2029 2048 1936 \r\nQ 2378 1850 2624 1728 \r\nQ 2870 1606 3008 1411 \r\nQ 3146 1216 3146 906 \r\nQ 3146 550 2946 337 \r\nQ 2746 125 2432 30 \r\nQ 2118 -64 1779 -64 \r\nQ 1334 -64 1028 67 \r\nQ 723 198 522 374 \r\nL 768 666 \r\nQ 966 499 1225 398 \r\nQ 1485 298 1782 298 \r\nz\r\n\" id=\"FiraCode-Light-73\" transform=\"scale(0.015625)\"/>\r\n     </defs>\r\n     <use xlink:href=\"#FiraCode-Light-43\"/>\r\n     <use x=\"60.000015\" xlink:href=\"#FiraCode-Light-6f\"/>\r\n     <use x=\"120.000031\" xlink:href=\"#FiraCode-Light-72\"/>\r\n     <use x=\"180.000046\" xlink:href=\"#FiraCode-Light-72\"/>\r\n     <use x=\"240.000061\" xlink:href=\"#FiraCode-Light-65\"/>\r\n     <use x=\"300.000076\" xlink:href=\"#FiraCode-Light-6c\"/>\r\n     <use x=\"360.000092\" xlink:href=\"#FiraCode-Light-61\"/>\r\n     <use x=\"420.000107\" xlink:href=\"#FiraCode-Light-74\"/>\r\n     <use x=\"480.000122\" xlink:href=\"#FiraCode-Light-69\"/>\r\n     <use x=\"540.000137\" xlink:href=\"#FiraCode-Light-6f\"/>\r\n     <use x=\"600.000153\" xlink:href=\"#FiraCode-Light-6e\"/>\r\n     <use x=\"660.000168\" xlink:href=\"#FiraCode-Light-20\"/>\r\n     <use x=\"720.000183\" xlink:href=\"#FiraCode-Light-41\"/>\r\n     <use x=\"780.000198\" xlink:href=\"#FiraCode-Light-6d\"/>\r\n     <use x=\"840.000214\" xlink:href=\"#FiraCode-Light-6f\"/>\r\n     <use x=\"900.000229\" xlink:href=\"#FiraCode-Light-6e\"/>\r\n     <use x=\"960.000244\" xlink:href=\"#FiraCode-Light-67\"/>\r\n     <use x=\"1020.000259\" xlink:href=\"#FiraCode-Light-20\"/>\r\n     <use x=\"1080.000275\" xlink:href=\"#FiraCode-Light-46\"/>\r\n     <use x=\"1140.00029\" xlink:href=\"#FiraCode-Light-65\"/>\r\n     <use x=\"1200.000305\" xlink:href=\"#FiraCode-Light-61\"/>\r\n     <use x=\"1260.00032\" xlink:href=\"#FiraCode-Light-74\"/>\r\n     <use x=\"1320.000336\" xlink:href=\"#FiraCode-Light-75\"/>\r\n     <use x=\"1380.000351\" xlink:href=\"#FiraCode-Light-72\"/>\r\n     <use x=\"1440.000366\" xlink:href=\"#FiraCode-Light-65\"/>\r\n     <use x=\"1500.000381\" xlink:href=\"#FiraCode-Light-73\"/>\r\n    </g>\r\n   </g>\r\n  </g>\r\n  <g id=\"axes_2\">\r\n   <g id=\"patch_3\">\r\n    <path d=\"M 588.96 682.14 \r\nL 617.76 682.14 \r\nL 617.76 106.14 \r\nL 588.96 106.14 \r\nz\r\n\" style=\"fill:#ffffff;\"/>\r\n   </g>\r\n   <g id=\"patch_4\">\r\n    <path clip-path=\"url(#p68f4229e99)\" d=\"M 588.96 682.14 \r\nL 588.96 679.89 \r\nL 588.96 108.39 \r\nL 588.96 106.14 \r\nL 617.76 106.14 \r\nL 617.76 108.39 \r\nL 617.76 679.89 \r\nL 617.76 682.14 \r\nL 617.76 682.14 \r\nz\r\n\" style=\"fill:#ffffff;stroke:#ffffff;stroke-linejoin:miter;stroke-width:0.01;\"/>\r\n   </g>\r\n   <image height=\"576\" id=\"image4410ecc6bb\" transform=\"scale(1 -1)translate(0 -576)\" width=\"29\" x=\"589\" xlink:href=\"data:image/png;base64,\r\niVBORw0KGgoAAAANSUhEUgAAAB0AAAJACAYAAABxHG0PAAACzElEQVR4nO2cgW0cMQwEpYO6Sgsu2n0l/5cqRgI0Mw0sKC6XvDfg+efn9x2beXYLjjHGms9+3SOVnnreuV30UKVTYiRTTwsHkPV4jFQ4gBQO94mKjPQUDiBVep9o+xTl1DWo6emU9LSRQRFV2o1EUjigtGVQTL8jWW6kRgZFFIOicLC4t5FBWY/FSKKeaiote1HapyiFw32i68DrZiQWUaWaazAjoawDPupGYvHcSGUvyjrw971GhsUTg+1TFNGNJPpUtMTgqezdL5qRUEQ3kubu7XJAEVWqObY9Pe0ERRF9VmhGxuPejISi+oDaL9qn4n2inuxVjcx+0QL/PlGTkTSVenqqqbSRQfEYac25/V9I5t4LRVUjs1/01MhYwkHT054XxbNl1hyFA4coHEQj0z4FOeReSwxmJBRROIgCv3AAKRxQ2qcoHvc2MiieLdPlgFI4oGQkFFFPT6gWDiiFA0o9RSkcUDISiuo3B0mljQxKlaIUDveJmoxUpSBVep/omuO7XbQtg7Lmq6m0cABZ89WEg8VI9RSlcEDJSCimy8Hi3kYGxWMkUzhYPorPPO/wGMkTDgU+SOGAkpFQRJfDsPS0kUER7VPNyHhiMCOhdCOh1NP7RFVGslSq2adrfCU9LXtRCgeUenqfqOd5TSNj2aee1VY4oHiMpAoHSaWNDIpqZDQ9LRxA1vhmJI5iEMUTg40MiigG33oKUjigHBqZ9ilIN9J9oiIjicLBsk89N1JGQlHdSJqeWgL/VPZmJI7CAcUT+BkJpc8KlD4r7hMVhUOXA0mBf59onxUohQOKp9KyF8VjpHqKIgqH/pRJ0sigeHqakVBUlUpGxtPTM8/7/Uiet5FBqdL7RD3PWzigtNruExUZqXAgKRzuExUZSRQOlpEpHFBE4aAx0no/mhi0uLeRQTHt03+WSt+/kkozEorHSKqeSm6kjITiCYf/Mexaati78iUAAAAASUVORK5CYII=\" y=\"-106\"/>\r\n   <g id=\"matplotlib.axis_3\"/>\r\n   <g id=\"matplotlib.axis_4\">\r\n    <g id=\"ytick_6\">\r\n     <g id=\"line2d_11\">\r\n      <defs>\r\n       <path d=\"M 0 0 \r\nL 3.5 0 \r\n\" id=\"mbd12a5cf78\" style=\"stroke:#000000;stroke-width:0.8;\"/>\r\n      </defs>\r\n      <g>\r\n       <use style=\"stroke:#000000;stroke-width:0.8;\" x=\"617.76\" xlink:href=\"#mbd12a5cf78\" y=\"682.14\"/>\r\n      </g>\r\n     </g>\r\n     <g id=\"text_22\">\r\n      <!-- −1.00 -->\r\n      <g transform=\"translate(624.76 685.939219)scale(0.1 -0.1)\">\r\n       <defs>\r\n        <path d=\"M 678 2272 \r\nL 4684 2272 \r\nL 4684 1741 \r\nL 678 1741 \r\nL 678 2272 \r\nz\r\n\" id=\"DejaVuSans-2212\" transform=\"scale(0.015625)\"/>\r\n       </defs>\r\n       <use xlink:href=\"#DejaVuSans-2212\"/>\r\n       <use x=\"83.789062\" xlink:href=\"#DejaVuSans-31\"/>\r\n       <use x=\"147.412109\" xlink:href=\"#DejaVuSans-2e\"/>\r\n       <use x=\"179.199219\" xlink:href=\"#DejaVuSans-30\"/>\r\n       <use x=\"242.822266\" xlink:href=\"#DejaVuSans-30\"/>\r\n      </g>\r\n     </g>\r\n    </g>\r\n    <g id=\"ytick_7\">\r\n     <g id=\"line2d_12\">\r\n      <g>\r\n       <use style=\"stroke:#000000;stroke-width:0.8;\" x=\"617.76\" xlink:href=\"#mbd12a5cf78\" y=\"610.14\"/>\r\n      </g>\r\n     </g>\r\n     <g id=\"text_23\">\r\n      <!-- −0.75 -->\r\n      <g transform=\"translate(624.76 613.939219)scale(0.1 -0.1)\">\r\n       <defs>\r\n        <path d=\"M 525 4666 \r\nL 3525 4666 \r\nL 3525 4397 \r\nL 1831 0 \r\nL 1172 0 \r\nL 2766 4134 \r\nL 525 4134 \r\nL 525 4666 \r\nz\r\n\" id=\"DejaVuSans-37\" transform=\"scale(0.015625)\"/>\r\n       </defs>\r\n       <use xlink:href=\"#DejaVuSans-2212\"/>\r\n       <use x=\"83.789062\" xlink:href=\"#DejaVuSans-30\"/>\r\n       <use x=\"147.412109\" xlink:href=\"#DejaVuSans-2e\"/>\r\n       <use x=\"179.199219\" xlink:href=\"#DejaVuSans-37\"/>\r\n       <use x=\"242.822266\" xlink:href=\"#DejaVuSans-35\"/>\r\n      </g>\r\n     </g>\r\n    </g>\r\n    <g id=\"ytick_8\">\r\n     <g id=\"line2d_13\">\r\n      <g>\r\n       <use style=\"stroke:#000000;stroke-width:0.8;\" x=\"617.76\" xlink:href=\"#mbd12a5cf78\" y=\"538.14\"/>\r\n      </g>\r\n     </g>\r\n     <g id=\"text_24\">\r\n      <!-- −0.50 -->\r\n      <g transform=\"translate(624.76 541.939219)scale(0.1 -0.1)\">\r\n       <use xlink:href=\"#DejaVuSans-2212\"/>\r\n       <use x=\"83.789062\" xlink:href=\"#DejaVuSans-30\"/>\r\n       <use x=\"147.412109\" xlink:href=\"#DejaVuSans-2e\"/>\r\n       <use x=\"179.199219\" xlink:href=\"#DejaVuSans-35\"/>\r\n       <use x=\"242.822266\" xlink:href=\"#DejaVuSans-30\"/>\r\n      </g>\r\n     </g>\r\n    </g>\r\n    <g id=\"ytick_9\">\r\n     <g id=\"line2d_14\">\r\n      <g>\r\n       <use style=\"stroke:#000000;stroke-width:0.8;\" x=\"617.76\" xlink:href=\"#mbd12a5cf78\" y=\"466.14\"/>\r\n      </g>\r\n     </g>\r\n     <g id=\"text_25\">\r\n      <!-- −0.25 -->\r\n      <g transform=\"translate(624.76 469.939219)scale(0.1 -0.1)\">\r\n       <use xlink:href=\"#DejaVuSans-2212\"/>\r\n       <use x=\"83.789062\" xlink:href=\"#DejaVuSans-30\"/>\r\n       <use x=\"147.412109\" xlink:href=\"#DejaVuSans-2e\"/>\r\n       <use x=\"179.199219\" xlink:href=\"#DejaVuSans-32\"/>\r\n       <use x=\"242.822266\" xlink:href=\"#DejaVuSans-35\"/>\r\n      </g>\r\n     </g>\r\n    </g>\r\n    <g id=\"ytick_10\">\r\n     <g id=\"line2d_15\">\r\n      <g>\r\n       <use style=\"stroke:#000000;stroke-width:0.8;\" x=\"617.76\" xlink:href=\"#mbd12a5cf78\" y=\"394.14\"/>\r\n      </g>\r\n     </g>\r\n     <g id=\"text_26\">\r\n      <!-- 0.00 -->\r\n      <g transform=\"translate(624.76 397.939219)scale(0.1 -0.1)\">\r\n       <use xlink:href=\"#DejaVuSans-30\"/>\r\n       <use x=\"63.623047\" xlink:href=\"#DejaVuSans-2e\"/>\r\n       <use x=\"95.410156\" xlink:href=\"#DejaVuSans-30\"/>\r\n       <use x=\"159.033203\" xlink:href=\"#DejaVuSans-30\"/>\r\n      </g>\r\n     </g>\r\n    </g>\r\n    <g id=\"ytick_11\">\r\n     <g id=\"line2d_16\">\r\n      <g>\r\n       <use style=\"stroke:#000000;stroke-width:0.8;\" x=\"617.76\" xlink:href=\"#mbd12a5cf78\" y=\"322.14\"/>\r\n      </g>\r\n     </g>\r\n     <g id=\"text_27\">\r\n      <!-- 0.25 -->\r\n      <g transform=\"translate(624.76 325.939219)scale(0.1 -0.1)\">\r\n       <use xlink:href=\"#DejaVuSans-30\"/>\r\n       <use x=\"63.623047\" xlink:href=\"#DejaVuSans-2e\"/>\r\n       <use x=\"95.410156\" xlink:href=\"#DejaVuSans-32\"/>\r\n       <use x=\"159.033203\" xlink:href=\"#DejaVuSans-35\"/>\r\n      </g>\r\n     </g>\r\n    </g>\r\n    <g id=\"ytick_12\">\r\n     <g id=\"line2d_17\">\r\n      <g>\r\n       <use style=\"stroke:#000000;stroke-width:0.8;\" x=\"617.76\" xlink:href=\"#mbd12a5cf78\" y=\"250.14\"/>\r\n      </g>\r\n     </g>\r\n     <g id=\"text_28\">\r\n      <!-- 0.50 -->\r\n      <g transform=\"translate(624.76 253.939219)scale(0.1 -0.1)\">\r\n       <use xlink:href=\"#DejaVuSans-30\"/>\r\n       <use x=\"63.623047\" xlink:href=\"#DejaVuSans-2e\"/>\r\n       <use x=\"95.410156\" xlink:href=\"#DejaVuSans-35\"/>\r\n       <use x=\"159.033203\" xlink:href=\"#DejaVuSans-30\"/>\r\n      </g>\r\n     </g>\r\n    </g>\r\n    <g id=\"ytick_13\">\r\n     <g id=\"line2d_18\">\r\n      <g>\r\n       <use style=\"stroke:#000000;stroke-width:0.8;\" x=\"617.76\" xlink:href=\"#mbd12a5cf78\" y=\"178.14\"/>\r\n      </g>\r\n     </g>\r\n     <g id=\"text_29\">\r\n      <!-- 0.75 -->\r\n      <g transform=\"translate(624.76 181.939219)scale(0.1 -0.1)\">\r\n       <use xlink:href=\"#DejaVuSans-30\"/>\r\n       <use x=\"63.623047\" xlink:href=\"#DejaVuSans-2e\"/>\r\n       <use x=\"95.410156\" xlink:href=\"#DejaVuSans-37\"/>\r\n       <use x=\"159.033203\" xlink:href=\"#DejaVuSans-35\"/>\r\n      </g>\r\n     </g>\r\n    </g>\r\n    <g id=\"ytick_14\">\r\n     <g id=\"line2d_19\">\r\n      <g>\r\n       <use style=\"stroke:#000000;stroke-width:0.8;\" x=\"617.76\" xlink:href=\"#mbd12a5cf78\" y=\"106.14\"/>\r\n      </g>\r\n     </g>\r\n     <g id=\"text_30\">\r\n      <!-- 1.00 -->\r\n      <g transform=\"translate(624.76 109.939219)scale(0.1 -0.1)\">\r\n       <use xlink:href=\"#DejaVuSans-31\"/>\r\n       <use x=\"63.623047\" xlink:href=\"#DejaVuSans-2e\"/>\r\n       <use x=\"95.410156\" xlink:href=\"#DejaVuSans-30\"/>\r\n       <use x=\"159.033203\" xlink:href=\"#DejaVuSans-30\"/>\r\n      </g>\r\n     </g>\r\n    </g>\r\n   </g>\r\n   <g id=\"LineCollection_1\"/>\r\n   <g id=\"patch_5\">\r\n    <path d=\"M 588.96 682.14 \r\nL 588.96 679.89 \r\nL 588.96 108.39 \r\nL 588.96 106.14 \r\nL 617.76 106.14 \r\nL 617.76 108.39 \r\nL 617.76 679.89 \r\nL 617.76 682.14 \r\nz\r\n\" style=\"fill:none;\"/>\r\n   </g>\r\n  </g>\r\n </g>\r\n <defs>\r\n  <clipPath id=\"pdeedabd3ed\">\r\n   <rect height=\"460.8\" width=\"460.8\" x=\"99.36\" y=\"163.74\"/>\r\n  </clipPath>\r\n  <clipPath id=\"p68f4229e99\">\r\n   <rect height=\"576\" width=\"28.8\" x=\"588.96\" y=\"106.14\"/>\r\n  </clipPath>\r\n </defs>\r\n</svg>\r\n",
      "image/png": "[encoded data removed]"
     },
     "metadata": {
      "needs_background": "light"
     }
    }
   ],
   "metadata": {}
  },
  {
   "cell_type": "code",
   "execution_count": 17,
   "source": [
    "model.score(X , y)"
   ],
   "outputs": [
    {
     "output_type": "execute_result",
     "data": {
      "text/plain": [
       "1.0"
      ]
     },
     "metadata": {},
     "execution_count": 17
    }
   ],
   "metadata": {}
  }
 ],
 "metadata": {
  "orig_nbformat": 4,
  "language_info": {
   "name": "python",
   "version": "3.9.5",
   "mimetype": "text/x-python",
   "codemirror_mode": {
    "name": "ipython",
    "version": 3
   },
   "pygments_lexer": "ipython3",
   "nbconvert_exporter": "python",
   "file_extension": ".py"
  },
  "kernelspec": {
   "name": "python3",
   "display_name": "Python 3.9.5 64-bit"
  },
  "interpreter": {
   "hash": "63fd5069d213b44bf678585dea6b12cceca9941eaf7f819626cde1f2670de90d"
  }
 },
 "nbformat": 4,
 "nbformat_minor": 2
}